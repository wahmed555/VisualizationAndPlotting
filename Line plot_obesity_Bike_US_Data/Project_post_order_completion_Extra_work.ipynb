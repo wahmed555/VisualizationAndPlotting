{
 "cells": [
  {
   "cell_type": "markdown",
   "metadata": {},
   "source": [
    "## Project 1, Group 3 - Places to Bike\n",
    "Overview\n",
    "Biking is becoming more prevalent as a form of commuting to work, exercise, traveling, and for leisure. In this project, our group explored cities that were considered \"bike-friendly\" based on the Places for Bikes city ratings to see if there is any relationships to obesity rates in the U.S."
   ]
  },
  {
   "cell_type": "code",
   "execution_count": 100,
   "metadata": {
    "collapsed": true
   },
   "outputs": [],
   "source": [
    "# Import dependencies\n",
    "%matplotlib inline\n",
    "import matplotlib.pyplot as plt\n",
    "import pandas as pd\n",
    "import numpy as np\n",
    "import requests\n",
    "import time\n",
    "#import gmaps\n",
    "\n",
    "#from config import gkey\n",
    "\n",
    "from datetime import datetime"
   ]
  },
  {
   "cell_type": "markdown",
   "metadata": {},
   "source": [
    "### Bike Friendlines Score data"
   ]
  },
  {
   "cell_type": "code",
   "execution_count": 101,
   "metadata": {
    "collapsed": true
   },
   "outputs": [],
   "source": [
    "# Store filepath as variable\n",
    "places_for_bikes = \"data/places_for_bikes_results.csv\""
   ]
  },
  {
   "cell_type": "code",
   "execution_count": 102,
   "metadata": {
    "scrolled": true
   },
   "outputs": [
    {
     "data": {
      "text/html": [
       "<div>\n",
       "<style>\n",
       "    .dataframe thead tr:only-child th {\n",
       "        text-align: right;\n",
       "    }\n",
       "\n",
       "    .dataframe thead th {\n",
       "        text-align: left;\n",
       "    }\n",
       "\n",
       "    .dataframe tbody tr th {\n",
       "        vertical-align: top;\n",
       "    }\n",
       "</style>\n",
       "<table border=\"1\" class=\"dataframe\">\n",
       "  <thead>\n",
       "    <tr style=\"text-align: right;\">\n",
       "      <th></th>\n",
       "      <th>Places_ID_2019</th>\n",
       "      <th>City</th>\n",
       "      <th>City_Alt</th>\n",
       "      <th>ACS Bike-to-Work Mode Share</th>\n",
       "      <th>Land Area</th>\n",
       "      <th>Population</th>\n",
       "      <th>ACS Target</th>\n",
       "      <th>ACS Normalized Score</th>\n",
       "      <th>ACS Ridership Points</th>\n",
       "      <th>SMS Recreation Riding</th>\n",
       "      <th>...</th>\n",
       "      <th>ACS Bike-to-Work Mode Share Men</th>\n",
       "      <th>ACS Bike-to-Work Mode Share Women</th>\n",
       "      <th>ACS Gap</th>\n",
       "      <th>ACS Tier</th>\n",
       "      <th>ACS_Target</th>\n",
       "      <th>Distance.1</th>\n",
       "      <th>ACS Points</th>\n",
       "      <th>Total Reach Points</th>\n",
       "      <th>Bonus</th>\n",
       "      <th>Total Ponts</th>\n",
       "    </tr>\n",
       "  </thead>\n",
       "  <tbody>\n",
       "    <tr>\n",
       "      <th>0</th>\n",
       "      <td>363</td>\n",
       "      <td>SPRINGDALE, ARKANSAS</td>\n",
       "      <td>SPRINGDALE, AR</td>\n",
       "      <td>0.30%</td>\n",
       "      <td>41.8</td>\n",
       "      <td>77,252</td>\n",
       "      <td>12.60%</td>\n",
       "      <td>1.7</td>\n",
       "      <td>0.1</td>\n",
       "      <td>12.40%</td>\n",
       "      <td>...</td>\n",
       "      <td>0.01</td>\n",
       "      <td>0.00</td>\n",
       "      <td>0.01</td>\n",
       "      <td>1.0</td>\n",
       "      <td>-0.02</td>\n",
       "      <td>0.03</td>\n",
       "      <td>1.0</td>\n",
       "      <td>4.0</td>\n",
       "      <td>0.5</td>\n",
       "      <td>3.0</td>\n",
       "    </tr>\n",
       "    <tr>\n",
       "      <th>1</th>\n",
       "      <td>116</td>\n",
       "      <td>ENID, OKLAHOMA</td>\n",
       "      <td>ENID, OK</td>\n",
       "      <td>0.70%</td>\n",
       "      <td>73.7</td>\n",
       "      <td>50,809</td>\n",
       "      <td>11.50%</td>\n",
       "      <td>5.5</td>\n",
       "      <td>0.3</td>\n",
       "      <td>13.00%</td>\n",
       "      <td>...</td>\n",
       "      <td>0.01</td>\n",
       "      <td>0.00</td>\n",
       "      <td>0.01</td>\n",
       "      <td>2.0</td>\n",
       "      <td>-0.05</td>\n",
       "      <td>0.06</td>\n",
       "      <td>1.2</td>\n",
       "      <td>3.8</td>\n",
       "      <td>0.0</td>\n",
       "      <td>2.4</td>\n",
       "    </tr>\n",
       "    <tr>\n",
       "      <th>2</th>\n",
       "      <td>108</td>\n",
       "      <td>DUBUQUE, IOWA</td>\n",
       "      <td>DUBUQUE, IA</td>\n",
       "      <td>0.40%</td>\n",
       "      <td>30.0</td>\n",
       "      <td>58,410</td>\n",
       "      <td>20.80%</td>\n",
       "      <td>2.0</td>\n",
       "      <td>0.1</td>\n",
       "      <td>16.50%</td>\n",
       "      <td>...</td>\n",
       "      <td>0.00</td>\n",
       "      <td>0.00</td>\n",
       "      <td>0.00</td>\n",
       "      <td>1.0</td>\n",
       "      <td>-0.02</td>\n",
       "      <td>0.02</td>\n",
       "      <td>1.7</td>\n",
       "      <td>3.8</td>\n",
       "      <td>0.0</td>\n",
       "      <td>2.1</td>\n",
       "    </tr>\n",
       "    <tr>\n",
       "      <th>3</th>\n",
       "      <td>357</td>\n",
       "      <td>SOUTH BEND, INDIANA</td>\n",
       "      <td>SOUTH BEND, IN</td>\n",
       "      <td>1.30%</td>\n",
       "      <td>41.5</td>\n",
       "      <td>101,928</td>\n",
       "      <td>12.60%</td>\n",
       "      <td>7.8</td>\n",
       "      <td>0.4</td>\n",
       "      <td>15.80%</td>\n",
       "      <td>...</td>\n",
       "      <td>0.02</td>\n",
       "      <td>0.01</td>\n",
       "      <td>0.02</td>\n",
       "      <td>3.0</td>\n",
       "      <td>-0.60</td>\n",
       "      <td>0.62</td>\n",
       "      <td>3.1</td>\n",
       "      <td>3.7</td>\n",
       "      <td>0.0</td>\n",
       "      <td>2.0</td>\n",
       "    </tr>\n",
       "    <tr>\n",
       "      <th>4</th>\n",
       "      <td>1205</td>\n",
       "      <td>CRESTED BUTTE, COLORADO</td>\n",
       "      <td>CRESTED BUTTE, CO</td>\n",
       "      <td>41.10%</td>\n",
       "      <td>0.8</td>\n",
       "      <td>1,385</td>\n",
       "      <td>51.00%</td>\n",
       "      <td>75.6</td>\n",
       "      <td>3.8</td>\n",
       "      <td>18.80%</td>\n",
       "      <td>...</td>\n",
       "      <td>0.36</td>\n",
       "      <td>0.52</td>\n",
       "      <td>-0.16</td>\n",
       "      <td>3.0</td>\n",
       "      <td>-0.60</td>\n",
       "      <td>0.44</td>\n",
       "      <td>3.6</td>\n",
       "      <td>3.6</td>\n",
       "      <td>0.0</td>\n",
       "      <td>2.6</td>\n",
       "    </tr>\n",
       "  </tbody>\n",
       "</table>\n",
       "<p>5 rows × 55 columns</p>\n",
       "</div>"
      ],
      "text/plain": [
       "   Places_ID_2019                     City           City_Alt  \\\n",
       "0             363     SPRINGDALE, ARKANSAS     SPRINGDALE, AR   \n",
       "1             116           ENID, OKLAHOMA           ENID, OK   \n",
       "2             108            DUBUQUE, IOWA        DUBUQUE, IA   \n",
       "3             357      SOUTH BEND, INDIANA     SOUTH BEND, IN   \n",
       "4            1205  CRESTED BUTTE, COLORADO  CRESTED BUTTE, CO   \n",
       "\n",
       "  ACS Bike-to-Work Mode Share  Land Area  Population  ACS Target  \\\n",
       "0                       0.30%       41.8       77,252     12.60%   \n",
       "1                       0.70%       73.7       50,809     11.50%   \n",
       "2                       0.40%       30.0       58,410     20.80%   \n",
       "3                       1.30%       41.5      101,928     12.60%   \n",
       "4                      41.10%        0.8        1,385     51.00%   \n",
       "\n",
       "   ACS Normalized Score  ACS Ridership Points SMS Recreation Riding  \\\n",
       "0                   1.7                   0.1                12.40%   \n",
       "1                   5.5                   0.3                13.00%   \n",
       "2                   2.0                   0.1                16.50%   \n",
       "3                   7.8                   0.4                15.80%   \n",
       "4                  75.6                   3.8                18.80%   \n",
       "\n",
       "      ...       ACS Bike-to-Work Mode Share Men  \\\n",
       "0     ...                                  0.01   \n",
       "1     ...                                  0.01   \n",
       "2     ...                                  0.00   \n",
       "3     ...                                  0.02   \n",
       "4     ...                                  0.36   \n",
       "\n",
       "   ACS Bike-to-Work Mode Share Women  ACS Gap  ACS Tier  ACS_Target  \\\n",
       "0                               0.00     0.01       1.0       -0.02   \n",
       "1                               0.00     0.01       2.0       -0.05   \n",
       "2                               0.00     0.00       1.0       -0.02   \n",
       "3                               0.01     0.02       3.0       -0.60   \n",
       "4                               0.52    -0.16       3.0       -0.60   \n",
       "\n",
       "   Distance.1  ACS Points  Total Reach Points  Bonus  Total Ponts  \n",
       "0        0.03         1.0                 4.0    0.5          3.0  \n",
       "1        0.06         1.2                 3.8    0.0          2.4  \n",
       "2        0.02         1.7                 3.8    0.0          2.1  \n",
       "3        0.62         3.1                 3.7    0.0          2.0  \n",
       "4        0.44         3.6                 3.6    0.0          2.6  \n",
       "\n",
       "[5 rows x 55 columns]"
      ]
     },
     "execution_count": 102,
     "metadata": {},
     "output_type": "execute_result"
    }
   ],
   "source": [
    "# Read data with Pandas\n",
    "bike_data = pd.read_csv(places_for_bikes, encoding=\"ISO-8859-1\")\n",
    "\n",
    "# Display 10 rows of data\n",
    "bike_data.head(5)"
   ]
  },
  {
   "cell_type": "code",
   "execution_count": 103,
   "metadata": {
    "scrolled": true
   },
   "outputs": [
    {
     "data": {
      "text/html": [
       "<div>\n",
       "<style>\n",
       "    .dataframe thead tr:only-child th {\n",
       "        text-align: right;\n",
       "    }\n",
       "\n",
       "    .dataframe thead th {\n",
       "        text-align: left;\n",
       "    }\n",
       "\n",
       "    .dataframe tbody tr th {\n",
       "        vertical-align: top;\n",
       "    }\n",
       "</style>\n",
       "<table border=\"1\" class=\"dataframe\">\n",
       "  <thead>\n",
       "    <tr style=\"text-align: right;\">\n",
       "      <th></th>\n",
       "      <th>Places_ID_2019</th>\n",
       "      <th>City</th>\n",
       "      <th>City_Alt</th>\n",
       "      <th>ACS Bike-to-Work Mode Share</th>\n",
       "      <th>Land Area</th>\n",
       "      <th>Population</th>\n",
       "      <th>ACS Target</th>\n",
       "      <th>ACS Normalized Score</th>\n",
       "      <th>ACS Ridership Points</th>\n",
       "      <th>SMS Recreation Riding</th>\n",
       "      <th>...</th>\n",
       "      <th>ACS Bike-to-Work Mode Share Men</th>\n",
       "      <th>ACS Bike-to-Work Mode Share Women</th>\n",
       "      <th>ACS Gap</th>\n",
       "      <th>ACS Tier</th>\n",
       "      <th>ACS_Target</th>\n",
       "      <th>Distance.1</th>\n",
       "      <th>ACS Points</th>\n",
       "      <th>Total Reach Points</th>\n",
       "      <th>Bonus</th>\n",
       "      <th>Total Points</th>\n",
       "    </tr>\n",
       "  </thead>\n",
       "  <tbody>\n",
       "    <tr>\n",
       "      <th>0</th>\n",
       "      <td>363</td>\n",
       "      <td>SPRINGDALE, ARKANSAS</td>\n",
       "      <td>SPRINGDALE, AR</td>\n",
       "      <td>0.30%</td>\n",
       "      <td>41.8</td>\n",
       "      <td>77,252</td>\n",
       "      <td>12.60%</td>\n",
       "      <td>1.7</td>\n",
       "      <td>0.1</td>\n",
       "      <td>12.40%</td>\n",
       "      <td>...</td>\n",
       "      <td>0.01</td>\n",
       "      <td>0.00</td>\n",
       "      <td>0.01</td>\n",
       "      <td>1.0</td>\n",
       "      <td>-0.02</td>\n",
       "      <td>0.03</td>\n",
       "      <td>1.0</td>\n",
       "      <td>4.0</td>\n",
       "      <td>0.5</td>\n",
       "      <td>3.0</td>\n",
       "    </tr>\n",
       "    <tr>\n",
       "      <th>1</th>\n",
       "      <td>116</td>\n",
       "      <td>ENID, OKLAHOMA</td>\n",
       "      <td>ENID, OK</td>\n",
       "      <td>0.70%</td>\n",
       "      <td>73.7</td>\n",
       "      <td>50,809</td>\n",
       "      <td>11.50%</td>\n",
       "      <td>5.5</td>\n",
       "      <td>0.3</td>\n",
       "      <td>13.00%</td>\n",
       "      <td>...</td>\n",
       "      <td>0.01</td>\n",
       "      <td>0.00</td>\n",
       "      <td>0.01</td>\n",
       "      <td>2.0</td>\n",
       "      <td>-0.05</td>\n",
       "      <td>0.06</td>\n",
       "      <td>1.2</td>\n",
       "      <td>3.8</td>\n",
       "      <td>0.0</td>\n",
       "      <td>2.4</td>\n",
       "    </tr>\n",
       "    <tr>\n",
       "      <th>2</th>\n",
       "      <td>108</td>\n",
       "      <td>DUBUQUE, IOWA</td>\n",
       "      <td>DUBUQUE, IA</td>\n",
       "      <td>0.40%</td>\n",
       "      <td>30.0</td>\n",
       "      <td>58,410</td>\n",
       "      <td>20.80%</td>\n",
       "      <td>2.0</td>\n",
       "      <td>0.1</td>\n",
       "      <td>16.50%</td>\n",
       "      <td>...</td>\n",
       "      <td>0.00</td>\n",
       "      <td>0.00</td>\n",
       "      <td>0.00</td>\n",
       "      <td>1.0</td>\n",
       "      <td>-0.02</td>\n",
       "      <td>0.02</td>\n",
       "      <td>1.7</td>\n",
       "      <td>3.8</td>\n",
       "      <td>0.0</td>\n",
       "      <td>2.1</td>\n",
       "    </tr>\n",
       "    <tr>\n",
       "      <th>3</th>\n",
       "      <td>357</td>\n",
       "      <td>SOUTH BEND, INDIANA</td>\n",
       "      <td>SOUTH BEND, IN</td>\n",
       "      <td>1.30%</td>\n",
       "      <td>41.5</td>\n",
       "      <td>101,928</td>\n",
       "      <td>12.60%</td>\n",
       "      <td>7.8</td>\n",
       "      <td>0.4</td>\n",
       "      <td>15.80%</td>\n",
       "      <td>...</td>\n",
       "      <td>0.02</td>\n",
       "      <td>0.01</td>\n",
       "      <td>0.02</td>\n",
       "      <td>3.0</td>\n",
       "      <td>-0.60</td>\n",
       "      <td>0.62</td>\n",
       "      <td>3.1</td>\n",
       "      <td>3.7</td>\n",
       "      <td>0.0</td>\n",
       "      <td>2.0</td>\n",
       "    </tr>\n",
       "    <tr>\n",
       "      <th>4</th>\n",
       "      <td>1205</td>\n",
       "      <td>CRESTED BUTTE, COLORADO</td>\n",
       "      <td>CRESTED BUTTE, CO</td>\n",
       "      <td>41.10%</td>\n",
       "      <td>0.8</td>\n",
       "      <td>1,385</td>\n",
       "      <td>51.00%</td>\n",
       "      <td>75.6</td>\n",
       "      <td>3.8</td>\n",
       "      <td>18.80%</td>\n",
       "      <td>...</td>\n",
       "      <td>0.36</td>\n",
       "      <td>0.52</td>\n",
       "      <td>-0.16</td>\n",
       "      <td>3.0</td>\n",
       "      <td>-0.60</td>\n",
       "      <td>0.44</td>\n",
       "      <td>3.6</td>\n",
       "      <td>3.6</td>\n",
       "      <td>0.0</td>\n",
       "      <td>2.6</td>\n",
       "    </tr>\n",
       "  </tbody>\n",
       "</table>\n",
       "<p>5 rows × 55 columns</p>\n",
       "</div>"
      ],
      "text/plain": [
       "   Places_ID_2019                     City           City_Alt  \\\n",
       "0             363     SPRINGDALE, ARKANSAS     SPRINGDALE, AR   \n",
       "1             116           ENID, OKLAHOMA           ENID, OK   \n",
       "2             108            DUBUQUE, IOWA        DUBUQUE, IA   \n",
       "3             357      SOUTH BEND, INDIANA     SOUTH BEND, IN   \n",
       "4            1205  CRESTED BUTTE, COLORADO  CRESTED BUTTE, CO   \n",
       "\n",
       "  ACS Bike-to-Work Mode Share  Land Area Population ACS Target  \\\n",
       "0                       0.30%       41.8     77,252     12.60%   \n",
       "1                       0.70%       73.7     50,809     11.50%   \n",
       "2                       0.40%       30.0     58,410     20.80%   \n",
       "3                       1.30%       41.5    101,928     12.60%   \n",
       "4                      41.10%        0.8      1,385     51.00%   \n",
       "\n",
       "   ACS Normalized Score  ACS Ridership Points SMS Recreation Riding  \\\n",
       "0                   1.7                   0.1                12.40%   \n",
       "1                   5.5                   0.3                13.00%   \n",
       "2                   2.0                   0.1                16.50%   \n",
       "3                   7.8                   0.4                15.80%   \n",
       "4                  75.6                   3.8                18.80%   \n",
       "\n",
       "       ...       ACS Bike-to-Work Mode Share Men  \\\n",
       "0      ...                                  0.01   \n",
       "1      ...                                  0.01   \n",
       "2      ...                                  0.00   \n",
       "3      ...                                  0.02   \n",
       "4      ...                                  0.36   \n",
       "\n",
       "   ACS Bike-to-Work Mode Share Women  ACS Gap  ACS Tier  ACS_Target  \\\n",
       "0                               0.00     0.01       1.0       -0.02   \n",
       "1                               0.00     0.01       2.0       -0.05   \n",
       "2                               0.00     0.00       1.0       -0.02   \n",
       "3                               0.01     0.02       3.0       -0.60   \n",
       "4                               0.52    -0.16       3.0       -0.60   \n",
       "\n",
       "   Distance.1  ACS Points  Total Reach Points  Bonus  Total Points  \n",
       "0        0.03         1.0                 4.0    0.5           3.0  \n",
       "1        0.06         1.2                 3.8    0.0           2.4  \n",
       "2        0.02         1.7                 3.8    0.0           2.1  \n",
       "3        0.62         3.1                 3.7    0.0           2.0  \n",
       "4        0.44         3.6                 3.6    0.0           2.6  \n",
       "\n",
       "[5 rows x 55 columns]"
      ]
     },
     "execution_count": 103,
     "metadata": {},
     "output_type": "execute_result"
    }
   ],
   "source": [
    "# Renaming column\n",
    "bike_data_df = bike_data.rename(columns={\"Total Ponts\":\"Total Points\", \" Population \":\"Population\"})\n",
    "bike_data_df.head()"
   ]
  },
  {
   "cell_type": "code",
   "execution_count": 104,
   "metadata": {
    "collapsed": true
   },
   "outputs": [],
   "source": [
    "# Splitting City column to two new columns - City Name and State\n",
    "#bike_split = bike_data_df\n",
    "#bike_split[['City Name','State']] = bike_split[\"City\"].str.split(\",\", n=1, expand=True)\n",
    "#bike_split.head()"
   ]
  },
  {
   "cell_type": "code",
   "execution_count": 105,
   "metadata": {},
   "outputs": [
    {
     "data": {
      "text/html": [
       "<div>\n",
       "<style>\n",
       "    .dataframe thead tr:only-child th {\n",
       "        text-align: right;\n",
       "    }\n",
       "\n",
       "    .dataframe thead th {\n",
       "        text-align: left;\n",
       "    }\n",
       "\n",
       "    .dataframe tbody tr th {\n",
       "        vertical-align: top;\n",
       "    }\n",
       "</style>\n",
       "<table border=\"1\" class=\"dataframe\">\n",
       "  <thead>\n",
       "    <tr style=\"text-align: right;\">\n",
       "      <th></th>\n",
       "      <th>City_Alt</th>\n",
       "      <th>Population</th>\n",
       "      <th>Total Points</th>\n",
       "    </tr>\n",
       "  </thead>\n",
       "  <tbody>\n",
       "    <tr>\n",
       "      <th>0</th>\n",
       "      <td>SPRINGDALE, AR</td>\n",
       "      <td>77,252</td>\n",
       "      <td>3.0</td>\n",
       "    </tr>\n",
       "    <tr>\n",
       "      <th>1</th>\n",
       "      <td>ENID, OK</td>\n",
       "      <td>50,809</td>\n",
       "      <td>2.4</td>\n",
       "    </tr>\n",
       "    <tr>\n",
       "      <th>2</th>\n",
       "      <td>DUBUQUE, IA</td>\n",
       "      <td>58,410</td>\n",
       "      <td>2.1</td>\n",
       "    </tr>\n",
       "    <tr>\n",
       "      <th>3</th>\n",
       "      <td>SOUTH BEND, IN</td>\n",
       "      <td>101,928</td>\n",
       "      <td>2.0</td>\n",
       "    </tr>\n",
       "    <tr>\n",
       "      <th>4</th>\n",
       "      <td>CRESTED BUTTE, CO</td>\n",
       "      <td>1,385</td>\n",
       "      <td>2.6</td>\n",
       "    </tr>\n",
       "    <tr>\n",
       "      <th>5</th>\n",
       "      <td>KALAMAZOO, MI</td>\n",
       "      <td>75,833</td>\n",
       "      <td>1.9</td>\n",
       "    </tr>\n",
       "    <tr>\n",
       "      <th>6</th>\n",
       "      <td>SPRINGFIELD, MO</td>\n",
       "      <td>165,785</td>\n",
       "      <td>1.9</td>\n",
       "    </tr>\n",
       "    <tr>\n",
       "      <th>7</th>\n",
       "      <td>SAN JUAN CAPISTRANO, CA</td>\n",
       "      <td>35,948</td>\n",
       "      <td>1.9</td>\n",
       "    </tr>\n",
       "    <tr>\n",
       "      <th>8</th>\n",
       "      <td>CHARLOTTESVILLE, VA</td>\n",
       "      <td>46,487</td>\n",
       "      <td>1.8</td>\n",
       "    </tr>\n",
       "    <tr>\n",
       "      <th>9</th>\n",
       "      <td>BENTONVILLE, AR</td>\n",
       "      <td>44,601</td>\n",
       "      <td>3.1</td>\n",
       "    </tr>\n",
       "  </tbody>\n",
       "</table>\n",
       "</div>"
      ],
      "text/plain": [
       "                  City_Alt Population  Total Points\n",
       "0           SPRINGDALE, AR     77,252           3.0\n",
       "1                 ENID, OK     50,809           2.4\n",
       "2              DUBUQUE, IA     58,410           2.1\n",
       "3           SOUTH BEND, IN    101,928           2.0\n",
       "4        CRESTED BUTTE, CO      1,385           2.6\n",
       "5            KALAMAZOO, MI     75,833           1.9\n",
       "6          SPRINGFIELD, MO    165,785           1.9\n",
       "7  SAN JUAN CAPISTRANO, CA     35,948           1.9\n",
       "8      CHARLOTTESVILLE, VA     46,487           1.8\n",
       "9          BENTONVILLE, AR     44,601           3.1"
      ]
     },
     "execution_count": 105,
     "metadata": {},
     "output_type": "execute_result"
    }
   ],
   "source": [
    "# Re-organizing columns and keeping columns that are relevant to our research question. In this dataframe\n",
    "# we only want to focus on these columns in this dataset: City_Alt, Population, and Total Bike Friendly Points.\n",
    "bike_df = bike_data_df[['City_Alt', 'Population', 'Total Points']]\n",
    "\n",
    "bike_df.head(10)"
   ]
  },
  {
   "cell_type": "code",
   "execution_count": 106,
   "metadata": {
    "collapsed": true
   },
   "outputs": [],
   "source": [
    "# Sort dataframe based on Total Points scored and Population size for Bike Friendliness\n",
    "#bike_total_points = bike_df.sort_values([\"Total Points\", \"Population\"], ascending=[False, False])\n",
    "#bike_total_points.head(10)"
   ]
  },
  {
   "cell_type": "markdown",
   "metadata": {},
   "source": [
    "### Obesity Rate data"
   ]
  },
  {
   "cell_type": "code",
   "execution_count": 107,
   "metadata": {
    "collapsed": true
   },
   "outputs": [],
   "source": [
    "# Importing raw data for Obesity Rates\n",
    "obesity_raw_data = \"data/obesity_among_adults.csv\""
   ]
  },
  {
   "cell_type": "code",
   "execution_count": 108,
   "metadata": {},
   "outputs": [
    {
     "data": {
      "text/html": [
       "<div>\n",
       "<style>\n",
       "    .dataframe thead tr:only-child th {\n",
       "        text-align: right;\n",
       "    }\n",
       "\n",
       "    .dataframe thead th {\n",
       "        text-align: left;\n",
       "    }\n",
       "\n",
       "    .dataframe tbody tr th {\n",
       "        vertical-align: top;\n",
       "    }\n",
       "</style>\n",
       "<table border=\"1\" class=\"dataframe\">\n",
       "  <thead>\n",
       "    <tr style=\"text-align: right;\">\n",
       "      <th></th>\n",
       "      <th>Year</th>\n",
       "      <th>StateAbbr</th>\n",
       "      <th>StateDesc</th>\n",
       "      <th>CityName</th>\n",
       "      <th>GeographicLevel</th>\n",
       "      <th>DataSource</th>\n",
       "      <th>Category</th>\n",
       "      <th>UniqueID</th>\n",
       "      <th>Measure</th>\n",
       "      <th>Data_Value_Unit</th>\n",
       "      <th>...</th>\n",
       "      <th>Data_Value_Footnote</th>\n",
       "      <th>Low_Confidence_Limit</th>\n",
       "      <th>High_Confidence_Limit</th>\n",
       "      <th>PopulationCount</th>\n",
       "      <th>GeoLocation</th>\n",
       "      <th>CategoryID</th>\n",
       "      <th>MeasureId</th>\n",
       "      <th>CityFIPS</th>\n",
       "      <th>TractFIPS</th>\n",
       "      <th>Short_Question_Text</th>\n",
       "    </tr>\n",
       "  </thead>\n",
       "  <tbody>\n",
       "    <tr>\n",
       "      <th>0</th>\n",
       "      <td>2016</td>\n",
       "      <td>CO</td>\n",
       "      <td>Colorado</td>\n",
       "      <td>Boulder</td>\n",
       "      <td>City</td>\n",
       "      <td>BRFSS</td>\n",
       "      <td>Unhealthy Behaviors</td>\n",
       "      <td>807850</td>\n",
       "      <td>Obesity among adults aged &gt;=18 Years</td>\n",
       "      <td>%</td>\n",
       "      <td>...</td>\n",
       "      <td>NaN</td>\n",
       "      <td>14.6</td>\n",
       "      <td>15.1</td>\n",
       "      <td>97,385</td>\n",
       "      <td>(40.0275510494, -105.25151776)</td>\n",
       "      <td>UNHBEH</td>\n",
       "      <td>OBESITY</td>\n",
       "      <td>807850</td>\n",
       "      <td>NaN</td>\n",
       "      <td>Obesity</td>\n",
       "    </tr>\n",
       "    <tr>\n",
       "      <th>1</th>\n",
       "      <td>2016</td>\n",
       "      <td>CA</td>\n",
       "      <td>California</td>\n",
       "      <td>Fremont</td>\n",
       "      <td>City</td>\n",
       "      <td>BRFSS</td>\n",
       "      <td>Unhealthy Behaviors</td>\n",
       "      <td>626000</td>\n",
       "      <td>Obesity among adults aged &gt;=18 Years</td>\n",
       "      <td>%</td>\n",
       "      <td>...</td>\n",
       "      <td>NaN</td>\n",
       "      <td>15.6</td>\n",
       "      <td>15.8</td>\n",
       "      <td>214,089</td>\n",
       "      <td>(37.5278685405, -121.984121512)</td>\n",
       "      <td>UNHBEH</td>\n",
       "      <td>OBESITY</td>\n",
       "      <td>626000</td>\n",
       "      <td>NaN</td>\n",
       "      <td>Obesity</td>\n",
       "    </tr>\n",
       "    <tr>\n",
       "      <th>2</th>\n",
       "      <td>2016</td>\n",
       "      <td>CA</td>\n",
       "      <td>California</td>\n",
       "      <td>Milpitas</td>\n",
       "      <td>City</td>\n",
       "      <td>BRFSS</td>\n",
       "      <td>Unhealthy Behaviors</td>\n",
       "      <td>647766</td>\n",
       "      <td>Obesity among adults aged &gt;=18 Years</td>\n",
       "      <td>%</td>\n",
       "      <td>...</td>\n",
       "      <td>NaN</td>\n",
       "      <td>15.7</td>\n",
       "      <td>16.2</td>\n",
       "      <td>66,790</td>\n",
       "      <td>(37.433869763, -121.892083025)</td>\n",
       "      <td>UNHBEH</td>\n",
       "      <td>OBESITY</td>\n",
       "      <td>647766</td>\n",
       "      <td>NaN</td>\n",
       "      <td>Obesity</td>\n",
       "    </tr>\n",
       "    <tr>\n",
       "      <th>3</th>\n",
       "      <td>2016</td>\n",
       "      <td>CA</td>\n",
       "      <td>California</td>\n",
       "      <td>Irvine</td>\n",
       "      <td>City</td>\n",
       "      <td>BRFSS</td>\n",
       "      <td>Unhealthy Behaviors</td>\n",
       "      <td>636770</td>\n",
       "      <td>Obesity among adults aged &gt;=18 Years</td>\n",
       "      <td>%</td>\n",
       "      <td>...</td>\n",
       "      <td>NaN</td>\n",
       "      <td>16.2</td>\n",
       "      <td>16.5</td>\n",
       "      <td>212,375</td>\n",
       "      <td>(33.6780108904, -117.773633283)</td>\n",
       "      <td>UNHBEH</td>\n",
       "      <td>OBESITY</td>\n",
       "      <td>636770</td>\n",
       "      <td>NaN</td>\n",
       "      <td>Obesity</td>\n",
       "    </tr>\n",
       "    <tr>\n",
       "      <th>4</th>\n",
       "      <td>2016</td>\n",
       "      <td>CA</td>\n",
       "      <td>California</td>\n",
       "      <td>San Francisco</td>\n",
       "      <td>City</td>\n",
       "      <td>BRFSS</td>\n",
       "      <td>Unhealthy Behaviors</td>\n",
       "      <td>667000</td>\n",
       "      <td>Obesity among adults aged &gt;=18 Years</td>\n",
       "      <td>%</td>\n",
       "      <td>...</td>\n",
       "      <td>NaN</td>\n",
       "      <td>17.1</td>\n",
       "      <td>17.2</td>\n",
       "      <td>805,235</td>\n",
       "      <td>(37.7559136611, -122.440987876)</td>\n",
       "      <td>UNHBEH</td>\n",
       "      <td>OBESITY</td>\n",
       "      <td>667000</td>\n",
       "      <td>NaN</td>\n",
       "      <td>Obesity</td>\n",
       "    </tr>\n",
       "  </tbody>\n",
       "</table>\n",
       "<p>5 rows × 24 columns</p>\n",
       "</div>"
      ],
      "text/plain": [
       "   Year StateAbbr   StateDesc       CityName GeographicLevel DataSource  \\\n",
       "0  2016        CO    Colorado        Boulder            City      BRFSS   \n",
       "1  2016        CA  California        Fremont            City      BRFSS   \n",
       "2  2016        CA  California       Milpitas            City      BRFSS   \n",
       "3  2016        CA  California         Irvine            City      BRFSS   \n",
       "4  2016        CA  California  San Francisco            City      BRFSS   \n",
       "\n",
       "              Category  UniqueID                               Measure  \\\n",
       "0  Unhealthy Behaviors    807850  Obesity among adults aged >=18 Years   \n",
       "1  Unhealthy Behaviors    626000  Obesity among adults aged >=18 Years   \n",
       "2  Unhealthy Behaviors    647766  Obesity among adults aged >=18 Years   \n",
       "3  Unhealthy Behaviors    636770  Obesity among adults aged >=18 Years   \n",
       "4  Unhealthy Behaviors    667000  Obesity among adults aged >=18 Years   \n",
       "\n",
       "  Data_Value_Unit         ...         Data_Value_Footnote  \\\n",
       "0               %         ...                         NaN   \n",
       "1               %         ...                         NaN   \n",
       "2               %         ...                         NaN   \n",
       "3               %         ...                         NaN   \n",
       "4               %         ...                         NaN   \n",
       "\n",
       "  Low_Confidence_Limit  High_Confidence_Limit  PopulationCount  \\\n",
       "0                 14.6                   15.1           97,385   \n",
       "1                 15.6                   15.8          214,089   \n",
       "2                 15.7                   16.2           66,790   \n",
       "3                 16.2                   16.5          212,375   \n",
       "4                 17.1                   17.2          805,235   \n",
       "\n",
       "                       GeoLocation  CategoryID  MeasureId CityFIPS TractFIPS  \\\n",
       "0   (40.0275510494, -105.25151776)      UNHBEH    OBESITY   807850       NaN   \n",
       "1  (37.5278685405, -121.984121512)      UNHBEH    OBESITY   626000       NaN   \n",
       "2   (37.433869763, -121.892083025)      UNHBEH    OBESITY   647766       NaN   \n",
       "3  (33.6780108904, -117.773633283)      UNHBEH    OBESITY   636770       NaN   \n",
       "4  (37.7559136611, -122.440987876)      UNHBEH    OBESITY   667000       NaN   \n",
       "\n",
       "  Short_Question_Text  \n",
       "0             Obesity  \n",
       "1             Obesity  \n",
       "2             Obesity  \n",
       "3             Obesity  \n",
       "4             Obesity  \n",
       "\n",
       "[5 rows x 24 columns]"
      ]
     },
     "execution_count": 108,
     "metadata": {},
     "output_type": "execute_result"
    }
   ],
   "source": [
    "# Read raw data into CSV file\n",
    "obesity_data = pd.read_csv(obesity_raw_data, encoding=\"ISO-8859-1\")\n",
    "obesity_data.head()"
   ]
  },
  {
   "cell_type": "code",
   "execution_count": 109,
   "metadata": {},
   "outputs": [
    {
     "data": {
      "text/html": [
       "<div>\n",
       "<style>\n",
       "    .dataframe thead tr:only-child th {\n",
       "        text-align: right;\n",
       "    }\n",
       "\n",
       "    .dataframe thead th {\n",
       "        text-align: left;\n",
       "    }\n",
       "\n",
       "    .dataframe tbody tr th {\n",
       "        vertical-align: top;\n",
       "    }\n",
       "</style>\n",
       "<table border=\"1\" class=\"dataframe\">\n",
       "  <thead>\n",
       "    <tr style=\"text-align: right;\">\n",
       "      <th></th>\n",
       "      <th>Year</th>\n",
       "      <th>StateAbbr</th>\n",
       "      <th>State</th>\n",
       "      <th>City Name</th>\n",
       "      <th>GeographicLevel</th>\n",
       "      <th>DataSource</th>\n",
       "      <th>Category</th>\n",
       "      <th>UniqueID</th>\n",
       "      <th>Measure</th>\n",
       "      <th>Data_Value_Unit</th>\n",
       "      <th>...</th>\n",
       "      <th>Data_Value_Footnote</th>\n",
       "      <th>Low_Confidence_Limit</th>\n",
       "      <th>High_Confidence_Limit</th>\n",
       "      <th>Population</th>\n",
       "      <th>GeoLocation</th>\n",
       "      <th>CategoryID</th>\n",
       "      <th>MeasureId</th>\n",
       "      <th>CityFIPS</th>\n",
       "      <th>TractFIPS</th>\n",
       "      <th>Short_Question_Text</th>\n",
       "    </tr>\n",
       "  </thead>\n",
       "  <tbody>\n",
       "    <tr>\n",
       "      <th>0</th>\n",
       "      <td>2016</td>\n",
       "      <td>CO</td>\n",
       "      <td>Colorado</td>\n",
       "      <td>Boulder</td>\n",
       "      <td>City</td>\n",
       "      <td>BRFSS</td>\n",
       "      <td>Unhealthy Behaviors</td>\n",
       "      <td>807850</td>\n",
       "      <td>Obesity among adults aged &gt;=18 Years</td>\n",
       "      <td>%</td>\n",
       "      <td>...</td>\n",
       "      <td>NaN</td>\n",
       "      <td>14.6</td>\n",
       "      <td>15.1</td>\n",
       "      <td>97,385</td>\n",
       "      <td>(40.0275510494, -105.25151776)</td>\n",
       "      <td>UNHBEH</td>\n",
       "      <td>OBESITY</td>\n",
       "      <td>807850</td>\n",
       "      <td>NaN</td>\n",
       "      <td>Obesity</td>\n",
       "    </tr>\n",
       "    <tr>\n",
       "      <th>1</th>\n",
       "      <td>2016</td>\n",
       "      <td>CA</td>\n",
       "      <td>California</td>\n",
       "      <td>Fremont</td>\n",
       "      <td>City</td>\n",
       "      <td>BRFSS</td>\n",
       "      <td>Unhealthy Behaviors</td>\n",
       "      <td>626000</td>\n",
       "      <td>Obesity among adults aged &gt;=18 Years</td>\n",
       "      <td>%</td>\n",
       "      <td>...</td>\n",
       "      <td>NaN</td>\n",
       "      <td>15.6</td>\n",
       "      <td>15.8</td>\n",
       "      <td>214,089</td>\n",
       "      <td>(37.5278685405, -121.984121512)</td>\n",
       "      <td>UNHBEH</td>\n",
       "      <td>OBESITY</td>\n",
       "      <td>626000</td>\n",
       "      <td>NaN</td>\n",
       "      <td>Obesity</td>\n",
       "    </tr>\n",
       "    <tr>\n",
       "      <th>2</th>\n",
       "      <td>2016</td>\n",
       "      <td>CA</td>\n",
       "      <td>California</td>\n",
       "      <td>Milpitas</td>\n",
       "      <td>City</td>\n",
       "      <td>BRFSS</td>\n",
       "      <td>Unhealthy Behaviors</td>\n",
       "      <td>647766</td>\n",
       "      <td>Obesity among adults aged &gt;=18 Years</td>\n",
       "      <td>%</td>\n",
       "      <td>...</td>\n",
       "      <td>NaN</td>\n",
       "      <td>15.7</td>\n",
       "      <td>16.2</td>\n",
       "      <td>66,790</td>\n",
       "      <td>(37.433869763, -121.892083025)</td>\n",
       "      <td>UNHBEH</td>\n",
       "      <td>OBESITY</td>\n",
       "      <td>647766</td>\n",
       "      <td>NaN</td>\n",
       "      <td>Obesity</td>\n",
       "    </tr>\n",
       "    <tr>\n",
       "      <th>3</th>\n",
       "      <td>2016</td>\n",
       "      <td>CA</td>\n",
       "      <td>California</td>\n",
       "      <td>Irvine</td>\n",
       "      <td>City</td>\n",
       "      <td>BRFSS</td>\n",
       "      <td>Unhealthy Behaviors</td>\n",
       "      <td>636770</td>\n",
       "      <td>Obesity among adults aged &gt;=18 Years</td>\n",
       "      <td>%</td>\n",
       "      <td>...</td>\n",
       "      <td>NaN</td>\n",
       "      <td>16.2</td>\n",
       "      <td>16.5</td>\n",
       "      <td>212,375</td>\n",
       "      <td>(33.6780108904, -117.773633283)</td>\n",
       "      <td>UNHBEH</td>\n",
       "      <td>OBESITY</td>\n",
       "      <td>636770</td>\n",
       "      <td>NaN</td>\n",
       "      <td>Obesity</td>\n",
       "    </tr>\n",
       "    <tr>\n",
       "      <th>4</th>\n",
       "      <td>2016</td>\n",
       "      <td>CA</td>\n",
       "      <td>California</td>\n",
       "      <td>San Francisco</td>\n",
       "      <td>City</td>\n",
       "      <td>BRFSS</td>\n",
       "      <td>Unhealthy Behaviors</td>\n",
       "      <td>667000</td>\n",
       "      <td>Obesity among adults aged &gt;=18 Years</td>\n",
       "      <td>%</td>\n",
       "      <td>...</td>\n",
       "      <td>NaN</td>\n",
       "      <td>17.1</td>\n",
       "      <td>17.2</td>\n",
       "      <td>805,235</td>\n",
       "      <td>(37.7559136611, -122.440987876)</td>\n",
       "      <td>UNHBEH</td>\n",
       "      <td>OBESITY</td>\n",
       "      <td>667000</td>\n",
       "      <td>NaN</td>\n",
       "      <td>Obesity</td>\n",
       "    </tr>\n",
       "  </tbody>\n",
       "</table>\n",
       "<p>5 rows × 24 columns</p>\n",
       "</div>"
      ],
      "text/plain": [
       "   Year StateAbbr       State      City Name GeographicLevel DataSource  \\\n",
       "0  2016        CO    Colorado        Boulder            City      BRFSS   \n",
       "1  2016        CA  California        Fremont            City      BRFSS   \n",
       "2  2016        CA  California       Milpitas            City      BRFSS   \n",
       "3  2016        CA  California         Irvine            City      BRFSS   \n",
       "4  2016        CA  California  San Francisco            City      BRFSS   \n",
       "\n",
       "              Category  UniqueID                               Measure  \\\n",
       "0  Unhealthy Behaviors    807850  Obesity among adults aged >=18 Years   \n",
       "1  Unhealthy Behaviors    626000  Obesity among adults aged >=18 Years   \n",
       "2  Unhealthy Behaviors    647766  Obesity among adults aged >=18 Years   \n",
       "3  Unhealthy Behaviors    636770  Obesity among adults aged >=18 Years   \n",
       "4  Unhealthy Behaviors    667000  Obesity among adults aged >=18 Years   \n",
       "\n",
       "  Data_Value_Unit         ...         Data_Value_Footnote  \\\n",
       "0               %         ...                         NaN   \n",
       "1               %         ...                         NaN   \n",
       "2               %         ...                         NaN   \n",
       "3               %         ...                         NaN   \n",
       "4               %         ...                         NaN   \n",
       "\n",
       "  Low_Confidence_Limit  High_Confidence_Limit  Population  \\\n",
       "0                 14.6                   15.1      97,385   \n",
       "1                 15.6                   15.8     214,089   \n",
       "2                 15.7                   16.2      66,790   \n",
       "3                 16.2                   16.5     212,375   \n",
       "4                 17.1                   17.2     805,235   \n",
       "\n",
       "                       GeoLocation  CategoryID  MeasureId CityFIPS TractFIPS  \\\n",
       "0   (40.0275510494, -105.25151776)      UNHBEH    OBESITY   807850       NaN   \n",
       "1  (37.5278685405, -121.984121512)      UNHBEH    OBESITY   626000       NaN   \n",
       "2   (37.433869763, -121.892083025)      UNHBEH    OBESITY   647766       NaN   \n",
       "3  (33.6780108904, -117.773633283)      UNHBEH    OBESITY   636770       NaN   \n",
       "4  (37.7559136611, -122.440987876)      UNHBEH    OBESITY   667000       NaN   \n",
       "\n",
       "  Short_Question_Text  \n",
       "0             Obesity  \n",
       "1             Obesity  \n",
       "2             Obesity  \n",
       "3             Obesity  \n",
       "4             Obesity  \n",
       "\n",
       "[5 rows x 24 columns]"
      ]
     },
     "execution_count": 109,
     "metadata": {},
     "output_type": "execute_result"
    }
   ],
   "source": [
    "# Re-naming column to align with Bike Friendly dataset.\n",
    "obesity_data_rn = obesity_data.rename(columns={\"StateDesc\":\"State\", \"CityName\":\"City Name\",\n",
    "                                               \"Data_Value\":\"Obesity Rank\", \"PopulationCount\":\"Population\"})\n",
    "\n",
    "obesity_data_rn.head()"
   ]
  },
  {
   "cell_type": "code",
   "execution_count": 110,
   "metadata": {},
   "outputs": [
    {
     "data": {
      "text/html": [
       "<div>\n",
       "<style>\n",
       "    .dataframe thead tr:only-child th {\n",
       "        text-align: right;\n",
       "    }\n",
       "\n",
       "    .dataframe thead th {\n",
       "        text-align: left;\n",
       "    }\n",
       "\n",
       "    .dataframe tbody tr th {\n",
       "        vertical-align: top;\n",
       "    }\n",
       "</style>\n",
       "<table border=\"1\" class=\"dataframe\">\n",
       "  <thead>\n",
       "    <tr style=\"text-align: right;\">\n",
       "      <th></th>\n",
       "      <th>City Name</th>\n",
       "      <th>State</th>\n",
       "      <th>Population</th>\n",
       "      <th>Obesity Rank</th>\n",
       "      <th>City_Alt</th>\n",
       "    </tr>\n",
       "  </thead>\n",
       "  <tbody>\n",
       "    <tr>\n",
       "      <th>0</th>\n",
       "      <td>Boulder</td>\n",
       "      <td>Colorado</td>\n",
       "      <td>97,385</td>\n",
       "      <td>14.9</td>\n",
       "      <td>BOULDER, CO</td>\n",
       "    </tr>\n",
       "    <tr>\n",
       "      <th>1</th>\n",
       "      <td>Fremont</td>\n",
       "      <td>California</td>\n",
       "      <td>214,089</td>\n",
       "      <td>15.7</td>\n",
       "      <td>FREMONT, CA</td>\n",
       "    </tr>\n",
       "    <tr>\n",
       "      <th>2</th>\n",
       "      <td>Milpitas</td>\n",
       "      <td>California</td>\n",
       "      <td>66,790</td>\n",
       "      <td>16.0</td>\n",
       "      <td>MILPITAS, CA</td>\n",
       "    </tr>\n",
       "    <tr>\n",
       "      <th>3</th>\n",
       "      <td>Irvine</td>\n",
       "      <td>California</td>\n",
       "      <td>212,375</td>\n",
       "      <td>16.4</td>\n",
       "      <td>IRVINE, CA</td>\n",
       "    </tr>\n",
       "    <tr>\n",
       "      <th>4</th>\n",
       "      <td>San Francisco</td>\n",
       "      <td>California</td>\n",
       "      <td>805,235</td>\n",
       "      <td>17.1</td>\n",
       "      <td>SAN FRANCISCO, CA</td>\n",
       "    </tr>\n",
       "  </tbody>\n",
       "</table>\n",
       "</div>"
      ],
      "text/plain": [
       "       City Name       State Population  Obesity Rank           City_Alt\n",
       "0        Boulder    Colorado     97,385          14.9        BOULDER, CO\n",
       "1        Fremont  California    214,089          15.7        FREMONT, CA\n",
       "2       Milpitas  California     66,790          16.0       MILPITAS, CA\n",
       "3         Irvine  California    212,375          16.4         IRVINE, CA\n",
       "4  San Francisco  California    805,235          17.1  SAN FRANCISCO, CA"
      ]
     },
     "execution_count": 110,
     "metadata": {},
     "output_type": "execute_result"
    }
   ],
   "source": [
    "# Create new dataframe with needed columns \n",
    "obesity_data_df = obesity_data_rn[['City Name', 'State', 'Population', 'Obesity Rank']]\n",
    "\n",
    "# Sort columns based on Obesity Rank\n",
    "obesity_data_df = obesity_data_df.sort_values([\"Obesity Rank\"], ascending=[True])\n",
    "\n",
    "# Combining two columns into one to match with column from the Total Bike Score table to allow correct merge\n",
    "obesity_data_df['City_Alt'] = obesity_data_df['City Name'] + \", \" + obesity_data_rn['StateAbbr']\n",
    "\n",
    "# Making new column all upper case to match with column from Total Bike Score table to allow correct merge\n",
    "obesity_data_df['City_Alt'] = obesity_data_df['City_Alt'].str.upper()\n",
    "\n",
    "obesity_data_df.head()"
   ]
  },
  {
   "cell_type": "code",
   "execution_count": 111,
   "metadata": {},
   "outputs": [
    {
     "data": {
      "text/html": [
       "<div>\n",
       "<style>\n",
       "    .dataframe thead tr:only-child th {\n",
       "        text-align: right;\n",
       "    }\n",
       "\n",
       "    .dataframe thead th {\n",
       "        text-align: left;\n",
       "    }\n",
       "\n",
       "    .dataframe tbody tr th {\n",
       "        vertical-align: top;\n",
       "    }\n",
       "</style>\n",
       "<table border=\"1\" class=\"dataframe\">\n",
       "  <thead>\n",
       "    <tr style=\"text-align: right;\">\n",
       "      <th></th>\n",
       "      <th>City_Alt</th>\n",
       "      <th>Population</th>\n",
       "      <th>Total Points</th>\n",
       "    </tr>\n",
       "  </thead>\n",
       "  <tbody>\n",
       "    <tr>\n",
       "      <th>0</th>\n",
       "      <td>SPRINGDALE, AR</td>\n",
       "      <td>77,252</td>\n",
       "      <td>3.0</td>\n",
       "    </tr>\n",
       "    <tr>\n",
       "      <th>1</th>\n",
       "      <td>ENID, OK</td>\n",
       "      <td>50,809</td>\n",
       "      <td>2.4</td>\n",
       "    </tr>\n",
       "    <tr>\n",
       "      <th>2</th>\n",
       "      <td>DUBUQUE, IA</td>\n",
       "      <td>58,410</td>\n",
       "      <td>2.1</td>\n",
       "    </tr>\n",
       "    <tr>\n",
       "      <th>3</th>\n",
       "      <td>SOUTH BEND, IN</td>\n",
       "      <td>101,928</td>\n",
       "      <td>2.0</td>\n",
       "    </tr>\n",
       "    <tr>\n",
       "      <th>4</th>\n",
       "      <td>CRESTED BUTTE, CO</td>\n",
       "      <td>1,385</td>\n",
       "      <td>2.6</td>\n",
       "    </tr>\n",
       "  </tbody>\n",
       "</table>\n",
       "</div>"
      ],
      "text/plain": [
       "            City_Alt Population  Total Points\n",
       "0     SPRINGDALE, AR     77,252           3.0\n",
       "1           ENID, OK     50,809           2.4\n",
       "2        DUBUQUE, IA     58,410           2.1\n",
       "3     SOUTH BEND, IN    101,928           2.0\n",
       "4  CRESTED BUTTE, CO      1,385           2.6"
      ]
     },
     "execution_count": 111,
     "metadata": {},
     "output_type": "execute_result"
    }
   ],
   "source": [
    "# Show bike table again for easy comparision with obesity table above\n",
    "bike_df.head()"
   ]
  },
  {
   "cell_type": "markdown",
   "metadata": {},
   "source": [
    "### Combined datasets - Bike Friendliness Score and Obesity Rate"
   ]
  },
  {
   "cell_type": "code",
   "execution_count": 112,
   "metadata": {},
   "outputs": [
    {
     "data": {
      "text/html": [
       "<div>\n",
       "<style>\n",
       "    .dataframe thead tr:only-child th {\n",
       "        text-align: right;\n",
       "    }\n",
       "\n",
       "    .dataframe thead th {\n",
       "        text-align: left;\n",
       "    }\n",
       "\n",
       "    .dataframe tbody tr th {\n",
       "        vertical-align: top;\n",
       "    }\n",
       "</style>\n",
       "<table border=\"1\" class=\"dataframe\">\n",
       "  <thead>\n",
       "    <tr style=\"text-align: right;\">\n",
       "      <th></th>\n",
       "      <th>City_Alt</th>\n",
       "      <th>Population_x</th>\n",
       "      <th>Total Points</th>\n",
       "      <th>Obesity Rank</th>\n",
       "    </tr>\n",
       "  </thead>\n",
       "  <tbody>\n",
       "    <tr>\n",
       "      <th>0</th>\n",
       "      <td>SPRINGDALE, AR</td>\n",
       "      <td>77,252</td>\n",
       "      <td>3.0</td>\n",
       "      <td>35.7</td>\n",
       "    </tr>\n",
       "    <tr>\n",
       "      <th>1</th>\n",
       "      <td>SOUTH BEND, IN</td>\n",
       "      <td>101,928</td>\n",
       "      <td>2.0</td>\n",
       "      <td>38.6</td>\n",
       "    </tr>\n",
       "    <tr>\n",
       "      <th>2</th>\n",
       "      <td>KALAMAZOO, MI</td>\n",
       "      <td>75,833</td>\n",
       "      <td>1.9</td>\n",
       "      <td>37.4</td>\n",
       "    </tr>\n",
       "    <tr>\n",
       "      <th>3</th>\n",
       "      <td>SPRINGFIELD, MO</td>\n",
       "      <td>165,785</td>\n",
       "      <td>1.9</td>\n",
       "      <td>32.4</td>\n",
       "    </tr>\n",
       "    <tr>\n",
       "      <th>4</th>\n",
       "      <td>MEDFORD, OR</td>\n",
       "      <td>79,246</td>\n",
       "      <td>1.9</td>\n",
       "      <td>28.1</td>\n",
       "    </tr>\n",
       "  </tbody>\n",
       "</table>\n",
       "</div>"
      ],
      "text/plain": [
       "          City_Alt Population_x  Total Points  Obesity Rank\n",
       "0   SPRINGDALE, AR       77,252           3.0          35.7\n",
       "1   SOUTH BEND, IN      101,928           2.0          38.6\n",
       "2    KALAMAZOO, MI       75,833           1.9          37.4\n",
       "3  SPRINGFIELD, MO      165,785           1.9          32.4\n",
       "4      MEDFORD, OR       79,246           1.9          28.1"
      ]
     },
     "execution_count": 112,
     "metadata": {},
     "output_type": "execute_result"
    }
   ],
   "source": [
    "# Merge two dataframe using merge and inner because we want to show data from both\n",
    "merge_data = pd.merge(bike_df, obesity_data_df, on=\"City_Alt\", how=\"inner\")\n",
    "\n",
    "merge_data.head()\n",
    "# Keep only columns needed\n",
    "merge_data[['City_Alt', 'Population_x', 'Total Points', 'Obesity Rank']]\n",
    "\n",
    "# Renaming columns\n",
    "merge_data.rename(columns={\"Population_x\":\"Population\"})\n",
    "\n",
    "# Creating new dataframe to keep columns needed\n",
    "data_table_to_use = merge_data[['City_Alt', 'Population_x', 'Total Points', 'Obesity Rank']] \n",
    "\n",
    "# Display column names\n",
    "data_table_to_use.rename(columns={\"Population_x\":\"Population\"})\n",
    "data_table_to_use.head()"
   ]
  },
  {
   "cell_type": "markdown",
   "metadata": {},
   "source": [
    "## Visualizing the data"
   ]
  },
  {
   "cell_type": "code",
   "execution_count": 113,
   "metadata": {},
   "outputs": [
    {
     "data": {
      "image/png": "[encoded data removed]",
      "text/plain": [
       "<Figure size 432x288 with 1 Axes>"
      ]
     },
     "metadata": {},
     "output_type": "display_data"
    }
   ],
   "source": [
    "# Plotting the cities and their Bike Friendliness Score\n",
    "\n",
    "plt.scatter(data_table_to_use['City_Alt'], data_table_to_use['Total Points'], edgecolor='black', linewidths=1,\n",
    "            marker='o',cmap='plasma', alpha=0.8, label=\"Bike Score\")\n",
    "\n",
    "plt.style.use('seaborn')\n",
    "plt.title(f'Bike Score of 256 US Cities')\n",
    "plt.ylabel(\"Bike Friendliness Score\")\n",
    "plt.xlabel(\"Cities\")\n",
    "plt.grid(True)\n",
    "plt.show()"
   ]
  },
  {
   "cell_type": "code",
   "execution_count": 114,
   "metadata": {
    "scrolled": true
   },
   "outputs": [
    {
     "data": {
      "image/png": "[encoded data removed]",
      "text/plain": [
       "<Figure size 576x396 with 1 Axes>"
      ]
     },
     "metadata": {},
     "output_type": "display_data"
    }
   ],
   "source": [
    "# Plotting the cities and their Obesity Percentage \n",
    "\n",
    "plt.scatter(data_table_to_use['City_Alt'], data_table_to_use['Obesity Rank'], edgecolor='black', linewidths=1,\n",
    "            marker='o',cmap='viridis', alpha=0.8, label=\"Bike Score\")\n",
    "\n",
    "plt.style.use('seaborn-dark-palette')\n",
    "plt.title(f'Obesity Percentage in 256 US Cities')\n",
    "plt.ylabel(\"Obesity (%)\")\n",
    "plt.xlabel(\"Cities\")\n",
    "plt.grid(True)\n",
    "plt.show()"
   ]
  },
  {
   "cell_type": "markdown",
   "metadata": {},
   "source": [
    "### William Working Here"
   ]
  },
  {
   "cell_type": "code",
   "execution_count": 115,
   "metadata": {},
   "outputs": [
    {
     "data": {
      "image/png": "[encoded data removed]",
      "text/plain": [
       "<Figure size 576x396 with 1 Axes>"
      ]
     },
     "metadata": {},
     "output_type": "display_data"
    }
   ],
   "source": [
    "# Plotting the cities and their Bike Friendliness Score and Obesity\n",
    "\n",
    "plt.scatter(data_table_to_use['Obesity Rank'], data_table_to_use['Total Points'], edgecolor='black', linewidths=1,\n",
    "            marker='o',cmap='plasma', alpha=0.8, label=\"Bike Score\")\n",
    "\n",
    "plt.style.use('seaborn')\n",
    "plt.title(f'Bike Score by Obesity (%)')\n",
    "plt.ylabel(\"Bike Friendliness Score\")\n",
    "plt.xlabel(\"Obesity (%)\")\n",
    "plt.grid(True)\n",
    "plt.show()"
   ]
  },
  {
   "cell_type": "markdown",
   "metadata": {},
   "source": [
    "### TEST CHART 1"
   ]
  },
  {
   "cell_type": "code",
   "execution_count": 116,
   "metadata": {
    "collapsed": true
   },
   "outputs": [],
   "source": [
    "import matplotlib.pylab as plb"
   ]
  },
  {
   "cell_type": "code",
   "execution_count": 117,
   "metadata": {},
   "outputs": [
    {
     "data": {
      "image/png": "[encoded data removed]",
      "text/plain": [
       "<Figure size 576x396 with 1 Axes>"
      ]
     },
     "metadata": {},
     "output_type": "display_data"
    }
   ],
   "source": [
    "# Plotting the cities and their Bike Friendliness Score and Obesity\n",
    "\n",
    "plt.scatter(data_table_to_use['Obesity Rank'], data_table_to_use['Total Points'], edgecolor='black', linewidths=1,\n",
    "            marker='o',cmap='plasma', alpha=0.8, label=\"Bike Score\")\n",
    "\n",
    "plt.style.use('seaborn')\n",
    "plt.title(f'Bike Score by Obesity (%)')\n",
    "plt.ylabel(\"Bike Friendliness Score\")\n",
    "plt.xlabel(\"Obesity (%)\")\n",
    "plt.grid(True)\n",
    "plt.show()"
   ]
  },
  {
   "cell_type": "code",
   "execution_count": 118,
   "metadata": {},
   "outputs": [
    {
     "data": {
      "text/plain": [
       "['bmh',\n",
       " 'classic',\n",
       " 'dark_background',\n",
       " 'fast',\n",
       " 'fivethirtyeight',\n",
       " 'ggplot',\n",
       " 'grayscale',\n",
       " 'seaborn-bright',\n",
       " 'seaborn-colorblind',\n",
       " 'seaborn-dark-palette',\n",
       " 'seaborn-dark',\n",
       " 'seaborn-darkgrid',\n",
       " 'seaborn-deep',\n",
       " 'seaborn-muted',\n",
       " 'seaborn-notebook']"
      ]
     },
     "execution_count": 118,
     "metadata": {},
     "output_type": "execute_result"
    }
   ],
   "source": [
    "# Displaying differet style possible to be used on charts\n",
    "plt.style.available[:15]"
   ]
  },
  {
   "cell_type": "code",
   "execution_count": 119,
   "metadata": {
    "collapsed": true
   },
   "outputs": [],
   "source": [
    "# add heat map here\n"
   ]
  },
  {
   "cell_type": "code",
   "execution_count": 120,
   "metadata": {},
   "outputs": [
    {
     "name": "stderr",
     "output_type": "stream",
     "text": [
      "C:\\Users\\wlaik\\Anaconda3\\lib\\site-packages\\ipykernel_launcher.py:6: SettingWithCopyWarning: \n",
      "A value is trying to be set on a copy of a slice from a DataFrame.\n",
      "Try using .loc[row_indexer,col_indexer] = value instead\n",
      "\n",
      "See the caveats in the documentation: http://pandas.pydata.org/pandas-docs/stable/indexing.html#indexing-view-versus-copy\n",
      "  \n"
     ]
    },
    {
     "data": {
      "text/html": [
       "<div>\n",
       "<style>\n",
       "    .dataframe thead tr:only-child th {\n",
       "        text-align: right;\n",
       "    }\n",
       "\n",
       "    .dataframe thead th {\n",
       "        text-align: left;\n",
       "    }\n",
       "\n",
       "    .dataframe tbody tr th {\n",
       "        vertical-align: top;\n",
       "    }\n",
       "</style>\n",
       "<table border=\"1\" class=\"dataframe\">\n",
       "  <thead>\n",
       "    <tr style=\"text-align: right;\">\n",
       "      <th></th>\n",
       "      <th>City_Count</th>\n",
       "    </tr>\n",
       "    <tr>\n",
       "      <th>Total Points</th>\n",
       "      <th></th>\n",
       "    </tr>\n",
       "  </thead>\n",
       "  <tbody>\n",
       "    <tr>\n",
       "      <th>&lt;.5</th>\n",
       "      <td>0</td>\n",
       "    </tr>\n",
       "    <tr>\n",
       "      <th>.5-.9</th>\n",
       "      <td>1</td>\n",
       "    </tr>\n",
       "    <tr>\n",
       "      <th>1-1.4</th>\n",
       "      <td>94</td>\n",
       "    </tr>\n",
       "    <tr>\n",
       "      <th>1.5-1.9</th>\n",
       "      <td>115</td>\n",
       "    </tr>\n",
       "    <tr>\n",
       "      <th>2-2.4</th>\n",
       "      <td>22</td>\n",
       "    </tr>\n",
       "    <tr>\n",
       "      <th>2.5-2.9</th>\n",
       "      <td>14</td>\n",
       "    </tr>\n",
       "    <tr>\n",
       "      <th>3-3.4</th>\n",
       "      <td>17</td>\n",
       "    </tr>\n",
       "    <tr>\n",
       "      <th>3.5-3.9</th>\n",
       "      <td>2</td>\n",
       "    </tr>\n",
       "    <tr>\n",
       "      <th>&gt;4</th>\n",
       "      <td>0</td>\n",
       "    </tr>\n",
       "  </tbody>\n",
       "</table>\n",
       "</div>"
      ],
      "text/plain": [
       "              City_Count\n",
       "Total Points            \n",
       "<.5                    0\n",
       ".5-.9                  1\n",
       "1-1.4                 94\n",
       "1.5-1.9              115\n",
       "2-2.4                 22\n",
       "2.5-2.9               14\n",
       "3-3.4                 17\n",
       "3.5-3.9                2\n",
       ">4                     0"
      ]
     },
     "execution_count": 120,
     "metadata": {},
     "output_type": "execute_result"
    }
   ],
   "source": [
    "# Binning of bike score distribution \n",
    "bins_bike = [0, .4, .9, 1.4, 1.9, 2.4, 2.9, 3.4, 3.9, 8]\n",
    "bins_name = ['<.5', '.5-.9', '1-1.4', '1.5-1.9', '2-2.4','2.5-2.9','3-3.4', '3.5-3.9', '>4']\n",
    "\n",
    "# Slice data and place into bins\n",
    "data_table_to_use['Total Points'] = pd.cut(data_table_to_use[\"Total Points\"], bins_bike, labels=bins_name)\n",
    "\n",
    "# Group by total points and count by how many cities have total point in each bin\n",
    "bin_group_bike = data_table_to_use.groupby('Total Points')\n",
    "count_cat = bin_group_bike['Total Points'].count()\n",
    "\n",
    "# Create new df to show bin df\n",
    "bike_analysis_df = pd.DataFrame(count_cat)\n",
    "bike_analysis_df\n",
    "\n",
    "bike_analysis_df.rename(columns={\"Total Points\":\"City_Count\"})"
   ]
  },
  {
   "cell_type": "code",
   "execution_count": 121,
   "metadata": {
    "collapsed": true
   },
   "outputs": [],
   "source": [
    "#plt.bar(bike_analysis_df['Total Points'], bike_analysis_df['City_Count'])"
   ]
  },
  {
   "cell_type": "code",
   "execution_count": 122,
   "metadata": {},
   "outputs": [
    {
     "data": {
      "text/html": [
       "<div>\n",
       "<style>\n",
       "    .dataframe thead tr:only-child th {\n",
       "        text-align: right;\n",
       "    }\n",
       "\n",
       "    .dataframe thead th {\n",
       "        text-align: left;\n",
       "    }\n",
       "\n",
       "    .dataframe tbody tr th {\n",
       "        vertical-align: top;\n",
       "    }\n",
       "</style>\n",
       "<table border=\"1\" class=\"dataframe\">\n",
       "  <thead>\n",
       "    <tr style=\"text-align: right;\">\n",
       "      <th></th>\n",
       "      <th>Rank</th>\n",
       "    </tr>\n",
       "    <tr>\n",
       "      <th>Obesity Rank</th>\n",
       "      <th></th>\n",
       "    </tr>\n",
       "  </thead>\n",
       "  <tbody>\n",
       "    <tr>\n",
       "      <th>&lt;4</th>\n",
       "      <td>0</td>\n",
       "    </tr>\n",
       "    <tr>\n",
       "      <th>5-9</th>\n",
       "      <td>0</td>\n",
       "    </tr>\n",
       "    <tr>\n",
       "      <th>10-14</th>\n",
       "      <td>0</td>\n",
       "    </tr>\n",
       "    <tr>\n",
       "      <th>15-19</th>\n",
       "      <td>7</td>\n",
       "    </tr>\n",
       "    <tr>\n",
       "      <th>20-24</th>\n",
       "      <td>28</td>\n",
       "    </tr>\n",
       "    <tr>\n",
       "      <th>25-29</th>\n",
       "      <td>85</td>\n",
       "    </tr>\n",
       "    <tr>\n",
       "      <th>30-34</th>\n",
       "      <td>79</td>\n",
       "    </tr>\n",
       "    <tr>\n",
       "      <th>35-39</th>\n",
       "      <td>48</td>\n",
       "    </tr>\n",
       "    <tr>\n",
       "      <th>&gt;40</th>\n",
       "      <td>18</td>\n",
       "    </tr>\n",
       "  </tbody>\n",
       "</table>\n",
       "</div>"
      ],
      "text/plain": [
       "              Rank\n",
       "Obesity Rank      \n",
       "<4               0\n",
       "5-9              0\n",
       "10-14            0\n",
       "15-19            7\n",
       "20-24           28\n",
       "25-29           85\n",
       "30-34           79\n",
       "35-39           48\n",
       ">40             18"
      ]
     },
     "execution_count": 122,
     "metadata": {},
     "output_type": "execute_result"
    }
   ],
   "source": [
    "# Binning of chart of obesity rank distribution\n",
    "bins_obesity = [0, 4, 9, 14, 19, 24, 29, 34, 39, 100]\n",
    "bins_obesity_name = ['<4', '5-9', '10-14', '15-19', '20-24','25-29','30-34', '35-39', '>40']\n",
    "\n",
    "# Reset index from previous binning\n",
    "data_table_to_use = data_table_to_use.reset_index(drop=True)\n",
    "\n",
    "# Group by total points and count by how many cities have total point in each bin\n",
    "data_table_to_use['Obesity Rank'] = pd.cut(data_table_to_use[\"Obesity Rank\"], bins_obesity, labels=bins_obesity_name)\n",
    "\n",
    "# sort by obesity rank and then count how many cities are in each bin\n",
    "bin_group_obesity = data_table_to_use.groupby('Obesity Rank')\n",
    "count_cat = bin_group_obesity['Obesity Rank'].count()\n",
    "\n",
    "# Create new df to showcase data\n",
    "obesity_analysis_df = pd.DataFrame(count_cat)\n",
    "obesity_analysis_df\n",
    "\n",
    "obesity_analysis_df.rename(columns={\"Obesity Rank\":\"Rank\"})"
   ]
  },
  {
   "cell_type": "markdown",
   "metadata": {},
   "source": [
    "### Top cities with the least Obesity Percentage"
   ]
  },
  {
   "cell_type": "code",
   "execution_count": 123,
   "metadata": {
    "collapsed": true
   },
   "outputs": [],
   "source": [
    "# Bar Chart of Five Least Obese Cities\n",
    "obesity_percentage = [14.9, 15.7, 16.0, 16.4, 17.1]\n",
    "x_axis = np.arange(len(obesity_percentage))"
   ]
  },
  {
   "cell_type": "code",
   "execution_count": 124,
   "metadata": {},
   "outputs": [
    {
     "data": {
      "text/plain": [
       "Text(0,0.5,'Obesity (%)')"
      ]
     },
     "execution_count": 124,
     "metadata": {},
     "output_type": "execute_result"
    },
    {
     "data": {
      "image/png": "[encoded data removed]",
      "text/plain": [
       "<Figure size 576x396 with 1 Axes>"
      ]
     },
     "metadata": {},
     "output_type": "display_data"
    }
   ],
   "source": [
    "# Plotting and Formatting Chart\n",
    "plt.bar(x_axis, obesity_percentage, color=\"r\", align=\"center\")\n",
    "\n",
    "# Setting Tick Locations\n",
    "tick_locations = [value for value in x_axis]\n",
    "plt.xticks(tick_locations, [\"Boulder\", \"Fremont\", \"Milpitas\", \"Irvine\", \"San Francisco\"])\n",
    "\n",
    "# Labeling and Titling Chart\n",
    "plt.title(\"Five Least Obese Cities by Percentage\")\n",
    "plt.xlabel(\"City\")\n",
    "plt.ylabel(\"Obesity (%)\")"
   ]
  },
  {
   "cell_type": "markdown",
   "metadata": {},
   "source": [
    "### TEST CHART"
   ]
  },
  {
   "cell_type": "code",
   "execution_count": 125,
   "metadata": {
    "collapsed": true
   },
   "outputs": [],
   "source": [
    "# Bar Chart of Five Least Obese Cities\n",
    "obesity_percentage = [14.9, 15.7, 16.0, 16.4, 17.1, 25.3]\n",
    "x_axis = np.arange(len(obesity_percentage))"
   ]
  },
  {
   "cell_type": "code",
   "execution_count": 143,
   "metadata": {},
   "outputs": [
    {
     "data": {
      "text/plain": [
       "Text(0,0.5,'Obesity (%)')"
      ]
     },
     "execution_count": 143,
     "metadata": {},
     "output_type": "execute_result"
    },
    {
     "data": {
      "image/png": "[encoded data removed]",
      "text/plain": [
       "<Figure size 576x396 with 1 Axes>"
      ]
     },
     "metadata": {},
     "output_type": "display_data"
    }
   ],
   "source": [
    "# Plotting and Formatting Chart\n",
    "plt.bar(x_axis, obesity_percentage, color=\"r\", align=\"center\")\n",
    "\n",
    "\n",
    "city_n=df33b['city']\n",
    "i=0\n",
    "for xy in zip(x_axis, obesity_percentage):                                       # <--\n",
    "#     print(type(xy))\n",
    "    plt.annotate('(%s)' % (obesity_percentage[i]), xy=xy,xytext=xy, textcoords='data',arrowprops=dict(facecolor='blue',headwidth=5.9, headlength=4.9),horizontalalignment='center') \n",
    "    i=i+1\n",
    "\n",
    "\n",
    "\n",
    "# Setting Tick Locations\n",
    "tick_locations = [value for value in x_axis]\n",
    "plt.xticks(tick_locations, [\"Boulder\", \"Fremont\", \"Milpitas\", \"Irvine\", \"San Francisco\", \"Minneapolis\"])\n",
    "\n",
    "# Labeling and Titling Chart\n",
    "plt.title(\"How Minneapolis Compares to Five Least Obese Cities by Percentage\")\n",
    "plt.xlabel(\"City\")\n",
    "plt.ylabel(\"Obesity (%)\")"
   ]
  },
  {
   "cell_type": "code",
   "execution_count": 134,
   "metadata": {},
   "outputs": [
    {
     "data": {
      "text/plain": [
       "0         Milpitas\n",
       "3          Fremont\n",
       "2           Irvine\n",
       "5    San Francisco\n",
       "4      Minneapolis\n",
       "1          Boulder\n",
       "Name: city, dtype: object"
      ]
     },
     "execution_count": 134,
     "metadata": {},
     "output_type": "execute_result"
    }
   ],
   "source": [
    "# te\n",
    "city_n"
   ]
  },
  {
   "cell_type": "code",
   "execution_count": null,
   "metadata": {
    "collapsed": true
   },
   "outputs": [],
   "source": []
  },
  {
   "cell_type": "code",
   "execution_count": null,
   "metadata": {
    "collapsed": true
   },
   "outputs": [],
   "source": []
  },
  {
   "cell_type": "code",
   "execution_count": 28,
   "metadata": {},
   "outputs": [
    {
     "name": "stderr",
     "output_type": "stream",
     "text": [
      "C:\\Users\\wlaik\\Anaconda3\\lib\\site-packages\\ipykernel_launcher.py:3: SettingWithCopyWarning: \n",
      "A value is trying to be set on a copy of a slice from a DataFrame.\n",
      "Try using .loc[row_indexer,col_indexer] = value instead\n",
      "\n",
      "See the caveats in the documentation: http://pandas.pydata.org/pandas-docs/stable/indexing.html#indexing-view-versus-copy\n",
      "  This is separate from the ipykernel package so we can avoid doing imports until\n"
     ]
    },
    {
     "data": {
      "text/html": [
       "<div>\n",
       "<style>\n",
       "    .dataframe thead tr:only-child th {\n",
       "        text-align: right;\n",
       "    }\n",
       "\n",
       "    .dataframe thead th {\n",
       "        text-align: left;\n",
       "    }\n",
       "\n",
       "    .dataframe tbody tr th {\n",
       "        vertical-align: top;\n",
       "    }\n",
       "</style>\n",
       "<table border=\"1\" class=\"dataframe\">\n",
       "  <thead>\n",
       "    <tr style=\"text-align: right;\">\n",
       "      <th></th>\n",
       "      <th>City Name</th>\n",
       "      <th>Population</th>\n",
       "    </tr>\n",
       "  </thead>\n",
       "  <tbody>\n",
       "    <tr>\n",
       "      <th>2</th>\n",
       "      <td>Milpitas</td>\n",
       "      <td>66790</td>\n",
       "    </tr>\n",
       "    <tr>\n",
       "      <th>0</th>\n",
       "      <td>Boulder</td>\n",
       "      <td>97385</td>\n",
       "    </tr>\n",
       "    <tr>\n",
       "      <th>3</th>\n",
       "      <td>Irvine</td>\n",
       "      <td>212375</td>\n",
       "    </tr>\n",
       "    <tr>\n",
       "      <th>1</th>\n",
       "      <td>Fremont</td>\n",
       "      <td>214089</td>\n",
       "    </tr>\n",
       "    <tr>\n",
       "      <th>4</th>\n",
       "      <td>San Francisco</td>\n",
       "      <td>805235</td>\n",
       "    </tr>\n",
       "  </tbody>\n",
       "</table>\n",
       "</div>"
      ],
      "text/plain": [
       "       City Name  Population\n",
       "2       Milpitas       66790\n",
       "0        Boulder       97385\n",
       "3         Irvine      212375\n",
       "1        Fremont      214089\n",
       "4  San Francisco      805235"
      ]
     },
     "execution_count": 28,
     "metadata": {},
     "output_type": "execute_result"
    }
   ],
   "source": [
    "# Preparing the x and y axis data for plot \n",
    "df0 = obesity_data_rn[['City Name','Population']]\n",
    "df0[\"Population\"] = df0[\"Population\"].str.replace(\",\",\"\").astype(int)\n",
    "df1 = df0[:5]\n",
    "df1 = df1.sort_values('Population',ascending=True)\n",
    "df1"
   ]
  },
  {
   "cell_type": "code",
   "execution_count": 74,
   "metadata": {},
   "outputs": [
    {
     "name": "stderr",
     "output_type": "stream",
     "text": [
      "C:\\Users\\wlaik\\Anaconda3\\lib\\site-packages\\ipykernel_launcher.py:7: SettingWithCopyWarning: \n",
      "A value is trying to be set on a copy of a slice from a DataFrame.\n",
      "Try using .loc[row_indexer,col_indexer] = value instead\n",
      "\n",
      "See the caveats in the documentation: http://pandas.pydata.org/pandas-docs/stable/indexing.html#indexing-view-versus-copy\n",
      "  import sys\n"
     ]
    },
    {
     "data": {
      "text/html": [
       "<div>\n",
       "<style>\n",
       "    .dataframe thead tr:only-child th {\n",
       "        text-align: right;\n",
       "    }\n",
       "\n",
       "    .dataframe thead th {\n",
       "        text-align: left;\n",
       "    }\n",
       "\n",
       "    .dataframe tbody tr th {\n",
       "        vertical-align: top;\n",
       "    }\n",
       "</style>\n",
       "<table border=\"1\" class=\"dataframe\">\n",
       "  <thead>\n",
       "    <tr style=\"text-align: right;\">\n",
       "      <th></th>\n",
       "      <th>City Name</th>\n",
       "      <th>Population</th>\n",
       "    </tr>\n",
       "  </thead>\n",
       "  <tbody>\n",
       "    <tr>\n",
       "      <th>0</th>\n",
       "      <td>Milpitas</td>\n",
       "      <td>66790</td>\n",
       "    </tr>\n",
       "    <tr>\n",
       "      <th>1</th>\n",
       "      <td>Boulder</td>\n",
       "      <td>97385</td>\n",
       "    </tr>\n",
       "    <tr>\n",
       "      <th>2</th>\n",
       "      <td>Irvine</td>\n",
       "      <td>212375</td>\n",
       "    </tr>\n",
       "    <tr>\n",
       "      <th>3</th>\n",
       "      <td>Fremont</td>\n",
       "      <td>214089</td>\n",
       "    </tr>\n",
       "    <tr>\n",
       "      <th>4</th>\n",
       "      <td>Minneapolis</td>\n",
       "      <td>382578</td>\n",
       "    </tr>\n",
       "    <tr>\n",
       "      <th>5</th>\n",
       "      <td>San Francisco</td>\n",
       "      <td>805235</td>\n",
       "    </tr>\n",
       "  </tbody>\n",
       "</table>\n",
       "</div>"
      ],
      "text/plain": [
       "       City Name  Population\n",
       "0       Milpitas       66790\n",
       "1        Boulder       97385\n",
       "2         Irvine      212375\n",
       "3        Fremont      214089\n",
       "4    Minneapolis      382578\n",
       "5  San Francisco      805235"
      ]
     },
     "execution_count": 74,
     "metadata": {},
     "output_type": "execute_result"
    }
   ],
   "source": [
    "# Minneapolis Data adding and forming a new frame  just like i prepared data for each graph b4 plotting\n",
    "\n",
    "dfa=obesity_data_rn[:5]\n",
    "dfb=obesity_data_rn[136:137]\n",
    "dfc=pd.concat([dfa,dfb])\n",
    "dfd=dfc[['City Name','Population']]\n",
    "dfd['Population']=dfd['Population'].str.replace(\",\",\"\").astype(int)\n",
    "dfe=dfd.sort_values(by='Population')\n",
    "dfe=dfe.reset_index()\n",
    "del dfe['index']\n",
    "dfe"
   ]
  },
  {
   "cell_type": "code",
   "execution_count": 31,
   "metadata": {},
   "outputs": [
    {
     "data": {
      "text/plain": [
       "Text(0,0.5,'Population')"
      ]
     },
     "execution_count": 31,
     "metadata": {},
     "output_type": "execute_result"
    },
    {
     "data": {
      "image/png": "[encoded data removed]",
      "text/plain": [
       "<Figure size 576x396 with 1 Axes>"
      ]
     },
     "metadata": {},
     "output_type": "display_data"
    }
   ],
   "source": [
    "# Plotting Population by Five Least Obese Cities\n",
    "x_axis=df2['City Name']      \n",
    "y_axis=df1['Population']\n",
    "plt.plot(x_axis, y_axis, color=\"r\")\n",
    "\n",
    "#tick_locations = [value for value in x_axis]\n",
    "#plt.xticks(tick_locations, ['Boulder', 'Fremont', 'Milpitas', 'Irvine', 'San Francisco'])\n",
    "#Labeling and Titling Chart\n",
    "\n",
    "plt.title(\"Population of Five Least Obese Cities\")\n",
    "plt.xlabel(\"City\")\n",
    "plt.ylabel(\"Population\")"
   ]
  },
  {
   "cell_type": "markdown",
   "metadata": {},
   "source": [
    "### TEST CHART"
   ]
  },
  {
   "cell_type": "code",
   "execution_count": 75,
   "metadata": {},
   "outputs": [
    {
     "name": "stderr",
     "output_type": "stream",
     "text": [
      "C:\\Users\\wlaik\\Anaconda3\\lib\\site-packages\\ipykernel_launcher.py:7: SettingWithCopyWarning: \n",
      "A value is trying to be set on a copy of a slice from a DataFrame.\n",
      "Try using .loc[row_indexer,col_indexer] = value instead\n",
      "\n",
      "See the caveats in the documentation: http://pandas.pydata.org/pandas-docs/stable/indexing.html#indexing-view-versus-copy\n",
      "  import sys\n"
     ]
    },
    {
     "data": {
      "text/html": [
       "<div>\n",
       "<style>\n",
       "    .dataframe thead tr:only-child th {\n",
       "        text-align: right;\n",
       "    }\n",
       "\n",
       "    .dataframe thead th {\n",
       "        text-align: left;\n",
       "    }\n",
       "\n",
       "    .dataframe tbody tr th {\n",
       "        vertical-align: top;\n",
       "    }\n",
       "</style>\n",
       "<table border=\"1\" class=\"dataframe\">\n",
       "  <thead>\n",
       "    <tr style=\"text-align: right;\">\n",
       "      <th></th>\n",
       "      <th>City Name</th>\n",
       "      <th>Population</th>\n",
       "    </tr>\n",
       "  </thead>\n",
       "  <tbody>\n",
       "    <tr>\n",
       "      <th>0</th>\n",
       "      <td>Milpitas</td>\n",
       "      <td>66790</td>\n",
       "    </tr>\n",
       "    <tr>\n",
       "      <th>1</th>\n",
       "      <td>Boulder</td>\n",
       "      <td>97385</td>\n",
       "    </tr>\n",
       "    <tr>\n",
       "      <th>2</th>\n",
       "      <td>Irvine</td>\n",
       "      <td>212375</td>\n",
       "    </tr>\n",
       "    <tr>\n",
       "      <th>3</th>\n",
       "      <td>Fremont</td>\n",
       "      <td>214089</td>\n",
       "    </tr>\n",
       "    <tr>\n",
       "      <th>4</th>\n",
       "      <td>Minneapolis</td>\n",
       "      <td>382578</td>\n",
       "    </tr>\n",
       "    <tr>\n",
       "      <th>5</th>\n",
       "      <td>San Francisco</td>\n",
       "      <td>805235</td>\n",
       "    </tr>\n",
       "  </tbody>\n",
       "</table>\n",
       "</div>"
      ],
      "text/plain": [
       "       City Name  Population\n",
       "0       Milpitas       66790\n",
       "1        Boulder       97385\n",
       "2         Irvine      212375\n",
       "3        Fremont      214089\n",
       "4    Minneapolis      382578\n",
       "5  San Francisco      805235"
      ]
     },
     "execution_count": 75,
     "metadata": {},
     "output_type": "execute_result"
    }
   ],
   "source": [
    "# Minneapolis Data adding and forming a new frame  just like i prepared data for each graph b4 plotting\n",
    "\n",
    "dfa=obesity_data_rn[:5]\n",
    "dfb=obesity_data_rn[136:137]\n",
    "dfc=pd.concat([dfa,dfb])\n",
    "dfd=dfc[['City Name','Population']]\n",
    "dfd['Population']=dfd['Population'].str.replace(\",\",\"\").astype(int)\n",
    "dfe=dfd.sort_values(by='Population')\n",
    "dfe=dfe.reset_index()\n",
    "del dfe['index']\n",
    "dfe"
   ]
  },
  {
   "cell_type": "code",
   "execution_count": 76,
   "metadata": {},
   "outputs": [
    {
     "data": {
      "text/plain": [
       "0         Milpitas\n",
       "1          Boulder\n",
       "2           Irvine\n",
       "3          Fremont\n",
       "4      Minneapolis\n",
       "5    San Francisco\n",
       "Name: City Name, dtype: object"
      ]
     },
     "execution_count": 76,
     "metadata": {},
     "output_type": "execute_result"
    }
   ],
   "source": [
    "dfe['City Name']\n",
    "# dfe['Population']"
   ]
  },
  {
   "cell_type": "code",
   "execution_count": 77,
   "metadata": {},
   "outputs": [
    {
     "data": {
      "text/plain": [
       "0     66790\n",
       "1     97385\n",
       "2    212375\n",
       "3    214089\n",
       "4    382578\n",
       "5    805235\n",
       "Name: Population, dtype: int32"
      ]
     },
     "execution_count": 77,
     "metadata": {},
     "output_type": "execute_result"
    }
   ],
   "source": [
    "dfe['Population']"
   ]
  },
  {
   "cell_type": "code",
   "execution_count": 80,
   "metadata": {},
   "outputs": [
    {
     "data": {
      "text/plain": [
       "Text(0,0.5,'Population')"
      ]
     },
     "execution_count": 80,
     "metadata": {},
     "output_type": "execute_result"
    },
    {
     "data": {
      "image/png": "[encoded data removed]",
      "text/plain": [
       "<Figure size 576x396 with 1 Axes>"
      ]
     },
     "metadata": {},
     "output_type": "display_data"
    }
   ],
   "source": [
    "# First Plot ( Redone by WASIM)\n",
    "\n",
    "\n",
    "\n",
    "x_axis = dfe['City Name']      \n",
    "y_axis= dfe['Population']\n",
    "\n",
    "n= list(y_axis)\n",
    "plt.plot(x_axis, y_axis, color=\"r\")\n",
    "\n",
    "i=0\n",
    "for xy in zip(x_axis, y_axis):                                       # <--\n",
    "#     print(type(xy))\n",
    "    plt.annotate('(%s,%s)' % (x_axis[i], y_axis[i]), xy=xy,xytext=xy, textcoords='data',arrowprops=dict(facecolor='blue',headwidth=5.9, headlength=4.9),horizontalalignment='right') \n",
    "    i=i+1\n",
    "\n",
    "# for i, txt in enumerate(y):\n",
    "#     plt.annotate(txt, (x_axis[i], y_axis[i]))\n",
    "\n",
    "plt.title(\"Population of Top Five Cities\")\n",
    "plt.xlabel(\"City\")\n",
    "plt.ylabel(\"Population\")"
   ]
  },
  {
   "cell_type": "code",
   "execution_count": 33,
   "metadata": {},
   "outputs": [
    {
     "data": {
      "text/plain": [
       "Text(0,0.5,'Population')"
      ]
     },
     "execution_count": 33,
     "metadata": {},
     "output_type": "execute_result"
    },
    {
     "data": {
      "image/png": "[encoded data removed]",
      "text/plain": [
       "<Figure size 576x396 with 1 Axes>"
      ]
     },
     "metadata": {},
     "output_type": "display_data"
    }
   ],
   "source": [
    "#Plotting Percentage of Five Least Obese Cities by Population\n",
    "\n",
    "#Setting x and y axis data_table_to_plot.plot(kind='line',x='City_Alt',y='Population_x', color='red')\n",
    "#obesity_percentage = [14.9, 15.7, 16.0, 16.4, 17.1]\n",
    "x_axis = df2['Obesity Rank']      \n",
    "y_axis= df1['Population']\n",
    "plt.plot(x_axis, y_axis, color=\"r\")\n",
    "\n",
    "# tick_locations = [value for value in x_axis]\n",
    "# plt.xticks(tick_locations, ['Boulder', 'Fremont', 'Milpitas', 'Irvine', 'San Francisco'])\n",
    "#Labeling and Titling Chart\n",
    "\n",
    "plt.title(\"Percentage of Five Least Obese Cities by Population\")\n",
    "plt.xlabel(\"Obesity %\")\n",
    "plt.ylabel(\"Population\")"
   ]
  },
  {
   "cell_type": "markdown",
   "metadata": {},
   "source": [
    "### Bike Friendliness Score vs Population"
   ]
  },
  {
   "cell_type": "code",
   "execution_count": 34,
   "metadata": {},
   "outputs": [
    {
     "data": {
      "text/html": [
       "<div>\n",
       "<style>\n",
       "    .dataframe thead tr:only-child th {\n",
       "        text-align: right;\n",
       "    }\n",
       "\n",
       "    .dataframe thead th {\n",
       "        text-align: left;\n",
       "    }\n",
       "\n",
       "    .dataframe tbody tr th {\n",
       "        vertical-align: top;\n",
       "    }\n",
       "</style>\n",
       "<table border=\"1\" class=\"dataframe\">\n",
       "  <thead>\n",
       "    <tr style=\"text-align: right;\">\n",
       "      <th></th>\n",
       "      <th>Bike_Score</th>\n",
       "      <th>Population</th>\n",
       "      <th>city</th>\n",
       "    </tr>\n",
       "  </thead>\n",
       "  <tbody>\n",
       "    <tr>\n",
       "      <th>0</th>\n",
       "      <td></td>\n",
       "      <td>66790</td>\n",
       "      <td>Milpitas</td>\n",
       "    </tr>\n",
       "    <tr>\n",
       "      <th>3</th>\n",
       "      <td>1.5</td>\n",
       "      <td>214089</td>\n",
       "      <td>Fremont</td>\n",
       "    </tr>\n",
       "    <tr>\n",
       "      <th>2</th>\n",
       "      <td>1.9</td>\n",
       "      <td>212375</td>\n",
       "      <td>Irvine</td>\n",
       "    </tr>\n",
       "    <tr>\n",
       "      <th>4</th>\n",
       "      <td>2.2</td>\n",
       "      <td>805235</td>\n",
       "      <td>San Francisco</td>\n",
       "    </tr>\n",
       "    <tr>\n",
       "      <th>1</th>\n",
       "      <td>3.7</td>\n",
       "      <td>97385</td>\n",
       "      <td>Boulder</td>\n",
       "    </tr>\n",
       "  </tbody>\n",
       "</table>\n",
       "</div>"
      ],
      "text/plain": [
       "  Bike_Score  Population           city\n",
       "0                  66790       Milpitas\n",
       "3        1.5      214089        Fremont\n",
       "2        1.9      212375         Irvine\n",
       "4        2.2      805235  San Francisco\n",
       "1        3.7       97385        Boulder"
      ]
     },
     "execution_count": 34,
     "metadata": {},
     "output_type": "execute_result"
    }
   ],
   "source": [
    "# Creating DataFrame of Bike_Score=data_table_to_use['Total Points']\n",
    "pop_series = ['Milpitas', 'Boulder','Irvine','Fremont', 'San Francisco']\n",
    "Bike_Score = ['','3.7','1.9','1.5','2.2']\n",
    "y_axis = df1['Population']\n",
    "y = list(y_axis)\n",
    "df3 = pd.DataFrame({'Bike_Score':Bike_Score,'Population':y,'city':pop_series})\n",
    "df3b = df3.sort_values(by='Bike_Score')\n",
    "df3b"
   ]
  },
  {
   "cell_type": "code",
   "execution_count": 35,
   "metadata": {},
   "outputs": [
    {
     "data": {
      "text/plain": [
       "Text(0,0.5,'Population')"
      ]
     },
     "execution_count": 35,
     "metadata": {},
     "output_type": "execute_result"
    },
    {
     "data": {
      "image/png": "[encoded data removed]",
      "text/plain": [
       "<Figure size 576x396 with 1 Axes>"
      ]
     },
     "metadata": {},
     "output_type": "display_data"
    }
   ],
   "source": [
    "#Plotting Bike Scores of Five Least Obese Cities by Population\n",
    "\n",
    "#Setting x and y axis for plotting\n",
    "x_axis = df3b['Bike_Score']    \n",
    "y_axis = df3b['Population']\n",
    "plt.plot(x_axis, y_axis, color=\"r\")\n",
    "\n",
    "# tick_locations = [value for value in x_axis]\n",
    "# plt.xticks(tick_locations, ['Boulder', 'Fremont', 'Milpitas', 'Irvine', 'San Francisco'])\n",
    "#Labeling and Titling Chart\n",
    "\n",
    "plt.title(\"Bike Scores of Five Least Obese Cities by Population\")\n",
    "plt.xlabel(\"Bike Score\")\n",
    "plt.ylabel(\"Population\")"
   ]
  },
  {
   "cell_type": "markdown",
   "metadata": {},
   "source": [
    "### TEST CHART"
   ]
  },
  {
   "cell_type": "code",
   "execution_count": 81,
   "metadata": {},
   "outputs": [
    {
     "name": "stderr",
     "output_type": "stream",
     "text": [
      "C:\\Users\\wlaik\\Anaconda3\\lib\\site-packages\\ipykernel_launcher.py:7: SettingWithCopyWarning: \n",
      "A value is trying to be set on a copy of a slice from a DataFrame.\n",
      "Try using .loc[row_indexer,col_indexer] = value instead\n",
      "\n",
      "See the caveats in the documentation: http://pandas.pydata.org/pandas-docs/stable/indexing.html#indexing-view-versus-copy\n",
      "  import sys\n"
     ]
    },
    {
     "data": {
      "text/html": [
       "<div>\n",
       "<style>\n",
       "    .dataframe thead tr:only-child th {\n",
       "        text-align: right;\n",
       "    }\n",
       "\n",
       "    .dataframe thead th {\n",
       "        text-align: left;\n",
       "    }\n",
       "\n",
       "    .dataframe tbody tr th {\n",
       "        vertical-align: top;\n",
       "    }\n",
       "</style>\n",
       "<table border=\"1\" class=\"dataframe\">\n",
       "  <thead>\n",
       "    <tr style=\"text-align: right;\">\n",
       "      <th></th>\n",
       "      <th>City Name</th>\n",
       "      <th>Population</th>\n",
       "    </tr>\n",
       "  </thead>\n",
       "  <tbody>\n",
       "    <tr>\n",
       "      <th>0</th>\n",
       "      <td>Milpitas</td>\n",
       "      <td>66790</td>\n",
       "    </tr>\n",
       "    <tr>\n",
       "      <th>1</th>\n",
       "      <td>Boulder</td>\n",
       "      <td>97385</td>\n",
       "    </tr>\n",
       "    <tr>\n",
       "      <th>2</th>\n",
       "      <td>Irvine</td>\n",
       "      <td>212375</td>\n",
       "    </tr>\n",
       "    <tr>\n",
       "      <th>3</th>\n",
       "      <td>Fremont</td>\n",
       "      <td>214089</td>\n",
       "    </tr>\n",
       "    <tr>\n",
       "      <th>4</th>\n",
       "      <td>Minneapolis</td>\n",
       "      <td>382578</td>\n",
       "    </tr>\n",
       "    <tr>\n",
       "      <th>5</th>\n",
       "      <td>San Francisco</td>\n",
       "      <td>805235</td>\n",
       "    </tr>\n",
       "  </tbody>\n",
       "</table>\n",
       "</div>"
      ],
      "text/plain": [
       "       City Name  Population\n",
       "0       Milpitas       66790\n",
       "1        Boulder       97385\n",
       "2         Irvine      212375\n",
       "3        Fremont      214089\n",
       "4    Minneapolis      382578\n",
       "5  San Francisco      805235"
      ]
     },
     "execution_count": 81,
     "metadata": {},
     "output_type": "execute_result"
    }
   ],
   "source": [
    "# Minneapolis Data adding and forming a new frame  just like i prepared data for each graph b4 plotting\n",
    "\n",
    "dfa=obesity_data_rn[:5]\n",
    "dfb=obesity_data_rn[136:137]\n",
    "dfc=pd.concat([dfa,dfb])\n",
    "dfd=dfc[['City Name','Population']]\n",
    "dfd['Population']=dfd['Population'].str.replace(\",\",\"\").astype(int)\n",
    "dfe=dfd.sort_values(by='Population')\n",
    "dfe=dfe.reset_index()\n",
    "del dfe['index']\n",
    "dfe"
   ]
  },
  {
   "cell_type": "code",
   "execution_count": 83,
   "metadata": {},
   "outputs": [
    {
     "data": {
      "text/plain": [
       "0     66790\n",
       "1     97385\n",
       "2    212375\n",
       "3    214089\n",
       "4    382578\n",
       "5    805235\n",
       "Name: Population, dtype: int32"
      ]
     },
     "execution_count": 83,
     "metadata": {},
     "output_type": "execute_result"
    }
   ],
   "source": [
    "dfe['Population']"
   ]
  },
  {
   "cell_type": "code",
   "execution_count": 90,
   "metadata": {},
   "outputs": [
    {
     "data": {
      "text/html": [
       "<div>\n",
       "<style>\n",
       "    .dataframe thead tr:only-child th {\n",
       "        text-align: right;\n",
       "    }\n",
       "\n",
       "    .dataframe thead th {\n",
       "        text-align: left;\n",
       "    }\n",
       "\n",
       "    .dataframe tbody tr th {\n",
       "        vertical-align: top;\n",
       "    }\n",
       "</style>\n",
       "<table border=\"1\" class=\"dataframe\">\n",
       "  <thead>\n",
       "    <tr style=\"text-align: right;\">\n",
       "      <th></th>\n",
       "      <th>Bike_Score</th>\n",
       "      <th>Population</th>\n",
       "      <th>city</th>\n",
       "    </tr>\n",
       "  </thead>\n",
       "  <tbody>\n",
       "    <tr>\n",
       "      <th>0</th>\n",
       "      <td>0</td>\n",
       "      <td>66790</td>\n",
       "      <td>Milpitas</td>\n",
       "    </tr>\n",
       "    <tr>\n",
       "      <th>1</th>\n",
       "      <td>3.7</td>\n",
       "      <td>97385</td>\n",
       "      <td>Boulder</td>\n",
       "    </tr>\n",
       "    <tr>\n",
       "      <th>2</th>\n",
       "      <td>1.9</td>\n",
       "      <td>212375</td>\n",
       "      <td>Irvine</td>\n",
       "    </tr>\n",
       "    <tr>\n",
       "      <th>3</th>\n",
       "      <td>1.5</td>\n",
       "      <td>214089</td>\n",
       "      <td>Fremont</td>\n",
       "    </tr>\n",
       "    <tr>\n",
       "      <th>4</th>\n",
       "      <td>3.2</td>\n",
       "      <td>382578</td>\n",
       "      <td>Minneapolis</td>\n",
       "    </tr>\n",
       "    <tr>\n",
       "      <th>5</th>\n",
       "      <td>2.2</td>\n",
       "      <td>805235</td>\n",
       "      <td>San Francisco</td>\n",
       "    </tr>\n",
       "  </tbody>\n",
       "</table>\n",
       "</div>"
      ],
      "text/plain": [
       "  Bike_Score  Population           city\n",
       "0          0       66790       Milpitas\n",
       "1        3.7       97385        Boulder\n",
       "2        1.9      212375         Irvine\n",
       "3        1.5      214089        Fremont\n",
       "4        3.2      382578    Minneapolis\n",
       "5        2.2      805235  San Francisco"
      ]
     },
     "execution_count": 90,
     "metadata": {},
     "output_type": "execute_result"
    }
   ],
   "source": [
    "df33"
   ]
  },
  {
   "cell_type": "code",
   "execution_count": 91,
   "metadata": {},
   "outputs": [
    {
     "data": {
      "text/html": [
       "<div>\n",
       "<style>\n",
       "    .dataframe thead tr:only-child th {\n",
       "        text-align: right;\n",
       "    }\n",
       "\n",
       "    .dataframe thead th {\n",
       "        text-align: left;\n",
       "    }\n",
       "\n",
       "    .dataframe tbody tr th {\n",
       "        vertical-align: top;\n",
       "    }\n",
       "</style>\n",
       "<table border=\"1\" class=\"dataframe\">\n",
       "  <thead>\n",
       "    <tr style=\"text-align: right;\">\n",
       "      <th></th>\n",
       "      <th>Bike_Score</th>\n",
       "      <th>Population</th>\n",
       "      <th>city</th>\n",
       "    </tr>\n",
       "  </thead>\n",
       "  <tbody>\n",
       "    <tr>\n",
       "      <th>0</th>\n",
       "      <td>0</td>\n",
       "      <td>66790</td>\n",
       "      <td>Milpitas</td>\n",
       "    </tr>\n",
       "    <tr>\n",
       "      <th>3</th>\n",
       "      <td>1.5</td>\n",
       "      <td>214089</td>\n",
       "      <td>Fremont</td>\n",
       "    </tr>\n",
       "    <tr>\n",
       "      <th>2</th>\n",
       "      <td>1.9</td>\n",
       "      <td>212375</td>\n",
       "      <td>Irvine</td>\n",
       "    </tr>\n",
       "    <tr>\n",
       "      <th>5</th>\n",
       "      <td>2.2</td>\n",
       "      <td>805235</td>\n",
       "      <td>San Francisco</td>\n",
       "    </tr>\n",
       "    <tr>\n",
       "      <th>4</th>\n",
       "      <td>3.2</td>\n",
       "      <td>382578</td>\n",
       "      <td>Minneapolis</td>\n",
       "    </tr>\n",
       "    <tr>\n",
       "      <th>1</th>\n",
       "      <td>3.7</td>\n",
       "      <td>97385</td>\n",
       "      <td>Boulder</td>\n",
       "    </tr>\n",
       "  </tbody>\n",
       "</table>\n",
       "</div>"
      ],
      "text/plain": [
       "  Bike_Score  Population           city\n",
       "0          0       66790       Milpitas\n",
       "3        1.5      214089        Fremont\n",
       "2        1.9      212375         Irvine\n",
       "5        2.2      805235  San Francisco\n",
       "4        3.2      382578    Minneapolis\n",
       "1        3.7       97385        Boulder"
      ]
     },
     "execution_count": 91,
     "metadata": {},
     "output_type": "execute_result"
    }
   ],
   "source": [
    "# Data prepration continued...\n",
    "# Bike_Score=data_table_to_use['Total Points']\n",
    "pop_series= ['Milpitas', 'Boulder','Irvine','Fremont','Minneapolis', 'San Francisco']\n",
    "Bike_Score=['0','3.7','1.9','1.5','3.2','2.2']\n",
    "y_axis= dfe['Population']\n",
    "y= list(y_axis)\n",
    "df33=pd.DataFrame({'Bike_Score':Bike_Score,'Population':y,  'city':pop_series})\n",
    "df33b=df33.sort_values(by='Bike_Score')\n",
    "df33b"
   ]
  },
  {
   "cell_type": "code",
   "execution_count": 94,
   "metadata": {},
   "outputs": [
    {
     "data": {
      "text/plain": [
       "Text(0,0.5,'Population')"
      ]
     },
     "execution_count": 94,
     "metadata": {},
     "output_type": "execute_result"
    },
    {
     "data": {
      "image/png": "[encoded data removed]",
      "text/plain": [
       "<Figure size 576x396 with 1 Axes>"
      ]
     },
     "metadata": {},
     "output_type": "display_data"
    }
   ],
   "source": [
    "# Reploted test2\n",
    "\n",
    "#Plotting Bike Scores of Five Least Obese Cities by Population\n",
    "\n",
    "#Setting x and y axis for plotting\n",
    "x_axis = df33b['Bike_Score']    \n",
    "y_axis = df33b['Population']\n",
    "plt.plot(x_axis, y_axis, color=\"r\")\n",
    "city_n=df33b['city']\n",
    "i=0\n",
    "for xy in zip(x_axis, y_axis):                                       # <--\n",
    "#     print(type(xy))\n",
    "    plt.annotate('(%s,%s)' % (city_n[i],x_axis[i]), xy=xy,xytext=xy, textcoords='data',arrowprops=dict(facecolor='blue',headwidth=5.9, headlength=4.9),horizontalalignment='right') \n",
    "    i=i+1\n",
    "\n",
    "# tick_locations = [value for value in x_axis]\n",
    "# plt.xticks(tick_locations, ['Boulder', 'Fremont', 'Milpitas', 'Irvine', 'San Francisco'])\n",
    "#Labeling and Titling Chart\n",
    "\n",
    "plt.title(\"Bike Scores of Five Least Obese Cities by Population\")\n",
    "plt.xlabel(\"Bike Score\")\n",
    "plt.ylabel(\"Population\")"
   ]
  },
  {
   "cell_type": "code",
   "execution_count": 37,
   "metadata": {
    "scrolled": true
   },
   "outputs": [
    {
     "data": {
      "text/plain": [
       "Text(0,0.5,'Population')"
      ]
     },
     "execution_count": 37,
     "metadata": {},
     "output_type": "execute_result"
    },
    {
     "data": {
      "image/png": "[encoded data removed]",
      "text/plain": [
       "<Figure size 576x396 with 2 Axes>"
      ]
     },
     "metadata": {},
     "output_type": "display_data"
    }
   ],
   "source": [
    "#Plotting Population and Obesity % & \n",
    "#Plotting Population and Bike Scores side by side\n",
    "#Five Least Obese Cities\n",
    "\n",
    "x1_axis = df2['Obesity Rank']  \n",
    "x2_axis = df3b['Bike_Score']     \n",
    "y_axis= df3b['Population']\n",
    "\n",
    "#Creating subplots\n",
    "f, (ax1, ax2) = plt.subplots(1, 2, sharey='row')\n",
    "\n",
    "#Plotting obesity\n",
    "ax1.plot(x1_axis, y_axis, color=\"r\")\n",
    "ax1.set_title('Obesity')\n",
    "ax1.set_title(\"Obesity % of Five Least\\nObese Cities by Population\")\n",
    "ax1.set_xlabel(\"Obesity %\")\n",
    "ax1.set_ylabel(\"Population\")\n",
    "\n",
    "#Plotting Bike Scores (Milpitas did not have a Bike Score)\n",
    "ax2.plot(x2_axis, y_axis, color=\"b\")\n",
    "ax2.set_title(\"Bike Scores of Five Least\\nObese Cities by Population\")\n",
    "ax2.set_xlabel(\"Bike score\")\n",
    "ax2.set_ylabel(\"Population\")"
   ]
  },
  {
   "cell_type": "code",
   "execution_count": 95,
   "metadata": {},
   "outputs": [
    {
     "data": {
      "image/png": "[encoded data removed]",
      "text/plain": [
       "<Figure size 576x396 with 2 Axes>"
      ]
     },
     "metadata": {},
     "output_type": "display_data"
    }
   ],
   "source": [
    "# Adding tis graph because above graph is inncorrect\n",
    "\n",
    "## two sub plots together\n",
    "\n",
    "import numpy as np\n",
    "import matplotlib.pyplot as plt\n",
    "\n",
    "from matplotlib.ticker import NullFormatter  # useful for `logit` scale\n",
    "\n",
    "# Fixing random state for reproducibility\n",
    "# np.random.seed(19680801)\n",
    "\n",
    "# # make up some data in the interval ]0, 1[\n",
    "# # y = np.random.normal(loc=0.5, scale=0.4, size=1000)\n",
    "# # y = y[(y > 0) & (y < 1)]\n",
    "# # y.sort()\n",
    "# # x = np.arange(len(y))\n",
    "\n",
    "\n",
    "# linear Obesity\n",
    "labels1 = df1['City Name']  \n",
    "n= list(labels1)\n",
    "\n",
    "x1_Obesity = [14.9, 15.7, 16.0, 16.4, 17.1]     \n",
    "y1_Obesity= [66790.0, 97385.0, 212375.0, 214089.0, 805235.0]\n",
    "\n",
    "\n",
    "\n",
    "# plot with various axes scales\n",
    "plt.figure()\n",
    "\n",
    "\n",
    "plt.subplot(121)\n",
    "plt.plot(x1_Obesity, y1_Obesity)\n",
    "plt.yscale('linear')\n",
    "plt.title('Obesity')\n",
    "# plt.grid(True)\n",
    "plt.xlabel(\"Obesity Rank\")\n",
    "plt.ylabel(\"Population\")\n",
    "\n",
    "i=0\n",
    "x_=list( df1['City Name'] )\n",
    "for xy in zip(x1_Obesity, y1_Obesity):\n",
    "    # <--\n",
    "#     print(type(xy))\n",
    "    plt.annotate('(%s, %s)' %(x_[i],x1_Obesity[i]), xy=xy,xytext=xy, textcoords='data',arrowprops=dict(facecolor='red',headwidth=5.9, headlength=4.9),horizontalalignment='center') \n",
    "    i=i+1\n",
    "\n",
    "    \n",
    "    \n",
    "    \n",
    "# log Bike    \n",
    "labels2=['Milpitas','Fremont','Irvine','San Francisco','Boulder']\n",
    "n= list(labels2)\n",
    "x2_Bike= [0, 1.5, 1.9, 2.2, 3.7] \n",
    "y2_Bike=[66790.0,214089.0,212375.0,805235.0,97385.0] \n",
    "\n",
    "plt.subplot(122)\n",
    "plt.plot(x2_Bike, y2_Bike)\n",
    "plt.yscale('linear')\n",
    "plt.title('Bike')\n",
    "plt.grid(True)\n",
    "plt.xlabel(\"Bike_score\")\n",
    "# plt.ylabel(\"Population\")\n",
    "\n",
    "i=0\n",
    "x_=labels2\n",
    "for xy in zip(x2_Bike, y2_Bike):\n",
    "    # <--\n",
    "#     print(type(xy))\n",
    "    plt.annotate('(%s, %s)' %(x_[i],x2_Bike[i]), xy=xy,xytext=xy, textcoords='data',arrowprops=dict(facecolor='red',headwidth=5.9, headlength=4.9),horizontalalignment='center') \n",
    "    i=i+1"
   ]
  },
  {
   "cell_type": "markdown",
   "metadata": {},
   "source": [
    "### DON'T USE"
   ]
  },
  {
   "cell_type": "code",
   "execution_count": 38,
   "metadata": {},
   "outputs": [
    {
     "data": {
      "text/plain": [
       "Text(0,0.5,'Obesity (%)')"
      ]
     },
     "execution_count": 38,
     "metadata": {},
     "output_type": "execute_result"
    },
    {
     "data": {
      "image/png": "[encoded data removed]",
      "text/plain": [
       "<Figure size 576x396 with 1 Axes>"
      ]
     },
     "metadata": {},
     "output_type": "display_data"
    }
   ],
   "source": [
    "x_axis = df3b['Bike_Score'] \n",
    "y_axis = df2['Obesity Rank'] \n",
    "plt.plot(x_axis, y_axis, color=\"r\")\n",
    "\n",
    "plt.title(\"Bike Scores Relationship to Obesity of\\nFive Least Obese Cities\")\n",
    "plt.xlabel(\"Bike Score\")\n",
    "plt.ylabel(\"Obesity (%)\")"
   ]
  },
  {
   "cell_type": "code",
   "execution_count": null,
   "metadata": {
    "collapsed": true
   },
   "outputs": [],
   "source": []
  },
  {
   "cell_type": "code",
   "execution_count": null,
   "metadata": {
    "collapsed": true
   },
   "outputs": [],
   "source": []
  }
 ],
 "metadata": {
  "kernelspec": {
   "display_name": "Python 3",
   "language": "python",
   "name": "python3"
  },
  "language_info": {
   "codemirror_mode": {
    "name": "ipython",
    "version": 3
   },
   "file_extension": ".py",
   "mimetype": "text/x-python",
   "name": "python",
   "nbconvert_exporter": "python",
   "pygments_lexer": "ipython3",
   "version": "3.6.3"
  }
 },
 "nbformat": 4,
 "nbformat_minor": 2
}
